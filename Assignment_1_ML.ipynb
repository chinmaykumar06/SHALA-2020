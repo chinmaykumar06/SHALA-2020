{
  "nbformat": 4,
  "nbformat_minor": 0,
  "metadata": {
    "colab": {
      "name": "Assignment_1 - ML.ipynb",
      "provenance": [],
      "collapsed_sections": [],
      "include_colab_link": true
    },
    "kernelspec": {
      "name": "python3",
      "display_name": "Python 3"
    }
  },
  "cells": [
    {
      "cell_type": "markdown",
      "metadata": {
        "id": "view-in-github",
        "colab_type": "text"
      },
      "source": [
        "<a href=\"https://colab.research.google.com/github/chinmaykumar06/SHALA-2020/blob/master/Assignment_1_ML.ipynb\" target=\"_parent\"><img src=\"https://colab.research.google.com/assets/colab-badge.svg\" alt=\"Open In Colab\"/></a>"
      ]
    },
    {
      "cell_type": "markdown",
      "metadata": {
        "id": "_lnS8bdSWnuK",
        "colab_type": "text"
      },
      "source": [
        "# **Assignment 1** (Intro to Machine Learning)"
      ]
    },
    {
      "cell_type": "markdown",
      "metadata": {
        "id": "a0_VaZIOWzut",
        "colab_type": "text"
      },
      "source": [
        "## Note:\n",
        "\n",
        "* The dataset to be used is `attrition.csv`. This dataset reveals whether a particular employee left the company or not.  \n",
        "* In this dataset, the column named `Attrition` is the target variable and the remaining columns are features. Please note that `Attrition = 1` means the employee left the company, whereas `Attrition = 0` means the opposite of this statement. \n",
        "*  This dataset has been loaded in this assignment as shown below. In case, you are not able to load this data, please note that this data is stored separately as well in the assignment folder. "
      ]
    },
    {
      "cell_type": "code",
      "metadata": {
        "id": "7bF8pLu6VdCg",
        "colab_type": "code",
        "colab": {}
      },
      "source": [
        "import pandas as pd"
      ],
      "execution_count": 0,
      "outputs": []
    },
    {
      "cell_type": "code",
      "metadata": {
        "id": "5ABlrvQjXFgv",
        "colab_type": "code",
        "colab": {}
      },
      "source": [
        "data_url = \"https://raw.githubusercontent.com/shala2020/shala2020.github.io/master/Lecture_Materials/Assignments/MachineLearning/L1/attrition.csv\"\n",
        "attrition_data = pd.read_csv(data_url)"
      ],
      "execution_count": 0,
      "outputs": []
    },
    {
      "cell_type": "markdown",
      "metadata": {
        "id": "aiByk21xYXod",
        "colab_type": "text"
      },
      "source": [
        "## Instructions:\n",
        "\n",
        "* You are required to use a classifier, which can predict the `Attrition` for the employees. \n",
        "* Before implementing any model, you will have to apply suitable encoding to the features and implement exploratory data analysis to know your data better. \n",
        "* You can either define your own custom-made classifer or select classifier(s) available in the `scikit-learn`.\n",
        "* You are supposed to implement a minimum of three classifiers (e.g.  `RandomForestClassifier`, `XGBClassifier`, `DecisionTreeClassifier`, `KNeighborsClassifier`, etc.) and evaluate which one is giving the best peformance. \n",
        "* For each of the classifier,  report the accuracy, precision, recall, roc curve, etc. "
      ]
    },
    {
      "cell_type": "markdown",
      "metadata": {
        "id": "Z6Z7spcObKvd",
        "colab_type": "text"
      },
      "source": [
        "## Resources:\n",
        "\n",
        "* You might want to refer to the [lecture notebook](https://github.com/shala2020/shala2020.github.io/tree/master/Lecture_Materials/Google_Colab_Notebooks/MachineLearning/L1) for revising the concepts.\n",
        "* You can also refer to the pre-work material for the first lecture on ML.  "
      ]
    },
    {
      "cell_type": "code",
      "metadata": {
        "id": "JlhrjCfrCesT",
        "colab_type": "code",
        "colab": {}
      },
      "source": [
        "# Loading the basic packages \n",
        "import numpy as np \n",
        "import pandas as pd\n",
        "import matplotlib.pyplot as plt\n",
        "import seaborn as sns"
      ],
      "execution_count": 0,
      "outputs": []
    },
    {
      "cell_type": "markdown",
      "metadata": {
        "id": "i_H9w-pHWObR",
        "colab_type": "text"
      },
      "source": [
        "## **DATA EXPLORATION**"
      ]
    },
    {
      "cell_type": "code",
      "metadata": {
        "id": "zzQ_5pbgElEW",
        "colab_type": "code",
        "outputId": "b905e374-e0a6-49b2-e195-476eda66ab90",
        "colab": {
          "base_uri": "https://localhost:8080/",
          "height": 609
        }
      },
      "source": [
        "attrition_data"
      ],
      "execution_count": 0,
      "outputs": [
        {
          "output_type": "execute_result",
          "data": {
            "text/html": [
              "<div>\n",
              "<style scoped>\n",
              "    .dataframe tbody tr th:only-of-type {\n",
              "        vertical-align: middle;\n",
              "    }\n",
              "\n",
              "    .dataframe tbody tr th {\n",
              "        vertical-align: top;\n",
              "    }\n",
              "\n",
              "    .dataframe thead th {\n",
              "        text-align: right;\n",
              "    }\n",
              "</style>\n",
              "<table border=\"1\" class=\"dataframe\">\n",
              "  <thead>\n",
              "    <tr style=\"text-align: right;\">\n",
              "      <th></th>\n",
              "      <th>Age</th>\n",
              "      <th>Attrition</th>\n",
              "      <th>BusinessTravel</th>\n",
              "      <th>DailyRate</th>\n",
              "      <th>Department</th>\n",
              "      <th>DistanceFromHome</th>\n",
              "      <th>Education</th>\n",
              "      <th>EducationField</th>\n",
              "      <th>EmployeeCount</th>\n",
              "      <th>EmployeeNumber</th>\n",
              "      <th>EnvironmentSatisfaction</th>\n",
              "      <th>Gender</th>\n",
              "      <th>HourlyRate</th>\n",
              "      <th>JobInvolvement</th>\n",
              "      <th>JobLevel</th>\n",
              "      <th>JobRole</th>\n",
              "      <th>JobSatisfaction</th>\n",
              "      <th>MaritalStatus</th>\n",
              "      <th>MonthlyIncome</th>\n",
              "      <th>MonthlyRate</th>\n",
              "      <th>NumCompaniesWorked</th>\n",
              "      <th>OverTime</th>\n",
              "      <th>PercentSalaryHike</th>\n",
              "      <th>PerformanceRating</th>\n",
              "      <th>RelationshipSatisfaction</th>\n",
              "      <th>StockOptionLevel</th>\n",
              "      <th>TotalWorkingYears</th>\n",
              "      <th>TrainingTimesLastYear</th>\n",
              "      <th>WorkLifeBalance</th>\n",
              "      <th>YearsAtCompany</th>\n",
              "      <th>YearsInCurrentRole</th>\n",
              "      <th>YearsSinceLastPromotion</th>\n",
              "      <th>YearsWithCurrManager</th>\n",
              "      <th>ID</th>\n",
              "    </tr>\n",
              "  </thead>\n",
              "  <tbody>\n",
              "    <tr>\n",
              "      <th>0</th>\n",
              "      <td>41</td>\n",
              "      <td>1</td>\n",
              "      <td>Travel_Rarely</td>\n",
              "      <td>1102</td>\n",
              "      <td>Sales</td>\n",
              "      <td>1</td>\n",
              "      <td>2</td>\n",
              "      <td>Life Sciences</td>\n",
              "      <td>1</td>\n",
              "      <td>1</td>\n",
              "      <td>2</td>\n",
              "      <td>Female</td>\n",
              "      <td>94</td>\n",
              "      <td>3</td>\n",
              "      <td>2</td>\n",
              "      <td>Sales Executive</td>\n",
              "      <td>4</td>\n",
              "      <td>Single</td>\n",
              "      <td>5993</td>\n",
              "      <td>19479</td>\n",
              "      <td>8</td>\n",
              "      <td>Yes</td>\n",
              "      <td>11</td>\n",
              "      <td>3</td>\n",
              "      <td>1</td>\n",
              "      <td>0</td>\n",
              "      <td>8</td>\n",
              "      <td>0</td>\n",
              "      <td>1</td>\n",
              "      <td>6</td>\n",
              "      <td>4</td>\n",
              "      <td>0</td>\n",
              "      <td>5</td>\n",
              "      <td>0</td>\n",
              "    </tr>\n",
              "    <tr>\n",
              "      <th>1</th>\n",
              "      <td>49</td>\n",
              "      <td>0</td>\n",
              "      <td>Travel_Frequently</td>\n",
              "      <td>279</td>\n",
              "      <td>Research &amp; Development</td>\n",
              "      <td>8</td>\n",
              "      <td>1</td>\n",
              "      <td>Life Sciences</td>\n",
              "      <td>1</td>\n",
              "      <td>2</td>\n",
              "      <td>3</td>\n",
              "      <td>Male</td>\n",
              "      <td>61</td>\n",
              "      <td>2</td>\n",
              "      <td>2</td>\n",
              "      <td>Research Scientist</td>\n",
              "      <td>2</td>\n",
              "      <td>Married</td>\n",
              "      <td>5130</td>\n",
              "      <td>24907</td>\n",
              "      <td>1</td>\n",
              "      <td>No</td>\n",
              "      <td>23</td>\n",
              "      <td>4</td>\n",
              "      <td>4</td>\n",
              "      <td>1</td>\n",
              "      <td>10</td>\n",
              "      <td>3</td>\n",
              "      <td>3</td>\n",
              "      <td>10</td>\n",
              "      <td>7</td>\n",
              "      <td>1</td>\n",
              "      <td>7</td>\n",
              "      <td>1</td>\n",
              "    </tr>\n",
              "    <tr>\n",
              "      <th>2</th>\n",
              "      <td>37</td>\n",
              "      <td>1</td>\n",
              "      <td>Travel_Rarely</td>\n",
              "      <td>1373</td>\n",
              "      <td>Research &amp; Development</td>\n",
              "      <td>2</td>\n",
              "      <td>2</td>\n",
              "      <td>Other</td>\n",
              "      <td>1</td>\n",
              "      <td>4</td>\n",
              "      <td>4</td>\n",
              "      <td>Male</td>\n",
              "      <td>92</td>\n",
              "      <td>2</td>\n",
              "      <td>1</td>\n",
              "      <td>Laboratory Technician</td>\n",
              "      <td>3</td>\n",
              "      <td>Single</td>\n",
              "      <td>2090</td>\n",
              "      <td>2396</td>\n",
              "      <td>6</td>\n",
              "      <td>Yes</td>\n",
              "      <td>15</td>\n",
              "      <td>3</td>\n",
              "      <td>2</td>\n",
              "      <td>0</td>\n",
              "      <td>7</td>\n",
              "      <td>3</td>\n",
              "      <td>3</td>\n",
              "      <td>0</td>\n",
              "      <td>0</td>\n",
              "      <td>0</td>\n",
              "      <td>0</td>\n",
              "      <td>2</td>\n",
              "    </tr>\n",
              "    <tr>\n",
              "      <th>3</th>\n",
              "      <td>33</td>\n",
              "      <td>0</td>\n",
              "      <td>Travel_Frequently</td>\n",
              "      <td>1392</td>\n",
              "      <td>Research &amp; Development</td>\n",
              "      <td>3</td>\n",
              "      <td>4</td>\n",
              "      <td>Life Sciences</td>\n",
              "      <td>1</td>\n",
              "      <td>5</td>\n",
              "      <td>4</td>\n",
              "      <td>Female</td>\n",
              "      <td>56</td>\n",
              "      <td>3</td>\n",
              "      <td>1</td>\n",
              "      <td>Research Scientist</td>\n",
              "      <td>3</td>\n",
              "      <td>Married</td>\n",
              "      <td>2909</td>\n",
              "      <td>23159</td>\n",
              "      <td>1</td>\n",
              "      <td>Yes</td>\n",
              "      <td>11</td>\n",
              "      <td>3</td>\n",
              "      <td>3</td>\n",
              "      <td>0</td>\n",
              "      <td>8</td>\n",
              "      <td>3</td>\n",
              "      <td>3</td>\n",
              "      <td>8</td>\n",
              "      <td>7</td>\n",
              "      <td>3</td>\n",
              "      <td>0</td>\n",
              "      <td>3</td>\n",
              "    </tr>\n",
              "    <tr>\n",
              "      <th>4</th>\n",
              "      <td>27</td>\n",
              "      <td>0</td>\n",
              "      <td>Travel_Rarely</td>\n",
              "      <td>591</td>\n",
              "      <td>Research &amp; Development</td>\n",
              "      <td>2</td>\n",
              "      <td>1</td>\n",
              "      <td>Medical</td>\n",
              "      <td>1</td>\n",
              "      <td>7</td>\n",
              "      <td>1</td>\n",
              "      <td>Male</td>\n",
              "      <td>40</td>\n",
              "      <td>3</td>\n",
              "      <td>1</td>\n",
              "      <td>Laboratory Technician</td>\n",
              "      <td>2</td>\n",
              "      <td>Married</td>\n",
              "      <td>3468</td>\n",
              "      <td>16632</td>\n",
              "      <td>9</td>\n",
              "      <td>No</td>\n",
              "      <td>12</td>\n",
              "      <td>3</td>\n",
              "      <td>4</td>\n",
              "      <td>1</td>\n",
              "      <td>6</td>\n",
              "      <td>3</td>\n",
              "      <td>3</td>\n",
              "      <td>2</td>\n",
              "      <td>2</td>\n",
              "      <td>2</td>\n",
              "      <td>2</td>\n",
              "      <td>4</td>\n",
              "    </tr>\n",
              "    <tr>\n",
              "      <th>...</th>\n",
              "      <td>...</td>\n",
              "      <td>...</td>\n",
              "      <td>...</td>\n",
              "      <td>...</td>\n",
              "      <td>...</td>\n",
              "      <td>...</td>\n",
              "      <td>...</td>\n",
              "      <td>...</td>\n",
              "      <td>...</td>\n",
              "      <td>...</td>\n",
              "      <td>...</td>\n",
              "      <td>...</td>\n",
              "      <td>...</td>\n",
              "      <td>...</td>\n",
              "      <td>...</td>\n",
              "      <td>...</td>\n",
              "      <td>...</td>\n",
              "      <td>...</td>\n",
              "      <td>...</td>\n",
              "      <td>...</td>\n",
              "      <td>...</td>\n",
              "      <td>...</td>\n",
              "      <td>...</td>\n",
              "      <td>...</td>\n",
              "      <td>...</td>\n",
              "      <td>...</td>\n",
              "      <td>...</td>\n",
              "      <td>...</td>\n",
              "      <td>...</td>\n",
              "      <td>...</td>\n",
              "      <td>...</td>\n",
              "      <td>...</td>\n",
              "      <td>...</td>\n",
              "      <td>...</td>\n",
              "    </tr>\n",
              "    <tr>\n",
              "      <th>1023</th>\n",
              "      <td>56</td>\n",
              "      <td>0</td>\n",
              "      <td>Travel_Rarely</td>\n",
              "      <td>1255</td>\n",
              "      <td>Research &amp; Development</td>\n",
              "      <td>1</td>\n",
              "      <td>2</td>\n",
              "      <td>Life Sciences</td>\n",
              "      <td>1</td>\n",
              "      <td>1441</td>\n",
              "      <td>1</td>\n",
              "      <td>Female</td>\n",
              "      <td>90</td>\n",
              "      <td>3</td>\n",
              "      <td>1</td>\n",
              "      <td>Research Scientist</td>\n",
              "      <td>1</td>\n",
              "      <td>Married</td>\n",
              "      <td>2066</td>\n",
              "      <td>10494</td>\n",
              "      <td>2</td>\n",
              "      <td>No</td>\n",
              "      <td>22</td>\n",
              "      <td>4</td>\n",
              "      <td>4</td>\n",
              "      <td>1</td>\n",
              "      <td>5</td>\n",
              "      <td>3</td>\n",
              "      <td>4</td>\n",
              "      <td>3</td>\n",
              "      <td>2</td>\n",
              "      <td>1</td>\n",
              "      <td>0</td>\n",
              "      <td>1023</td>\n",
              "    </tr>\n",
              "    <tr>\n",
              "      <th>1024</th>\n",
              "      <td>47</td>\n",
              "      <td>0</td>\n",
              "      <td>Travel_Rarely</td>\n",
              "      <td>359</td>\n",
              "      <td>Research &amp; Development</td>\n",
              "      <td>2</td>\n",
              "      <td>4</td>\n",
              "      <td>Medical</td>\n",
              "      <td>1</td>\n",
              "      <td>1443</td>\n",
              "      <td>1</td>\n",
              "      <td>Female</td>\n",
              "      <td>82</td>\n",
              "      <td>3</td>\n",
              "      <td>4</td>\n",
              "      <td>Research Director</td>\n",
              "      <td>3</td>\n",
              "      <td>Married</td>\n",
              "      <td>17169</td>\n",
              "      <td>26703</td>\n",
              "      <td>3</td>\n",
              "      <td>No</td>\n",
              "      <td>19</td>\n",
              "      <td>3</td>\n",
              "      <td>2</td>\n",
              "      <td>2</td>\n",
              "      <td>26</td>\n",
              "      <td>2</td>\n",
              "      <td>4</td>\n",
              "      <td>20</td>\n",
              "      <td>17</td>\n",
              "      <td>5</td>\n",
              "      <td>6</td>\n",
              "      <td>1024</td>\n",
              "    </tr>\n",
              "    <tr>\n",
              "      <th>1025</th>\n",
              "      <td>24</td>\n",
              "      <td>0</td>\n",
              "      <td>Travel_Rarely</td>\n",
              "      <td>1476</td>\n",
              "      <td>Sales</td>\n",
              "      <td>4</td>\n",
              "      <td>1</td>\n",
              "      <td>Medical</td>\n",
              "      <td>1</td>\n",
              "      <td>1445</td>\n",
              "      <td>4</td>\n",
              "      <td>Female</td>\n",
              "      <td>42</td>\n",
              "      <td>3</td>\n",
              "      <td>2</td>\n",
              "      <td>Sales Executive</td>\n",
              "      <td>3</td>\n",
              "      <td>Married</td>\n",
              "      <td>4162</td>\n",
              "      <td>15211</td>\n",
              "      <td>1</td>\n",
              "      <td>Yes</td>\n",
              "      <td>12</td>\n",
              "      <td>3</td>\n",
              "      <td>3</td>\n",
              "      <td>2</td>\n",
              "      <td>5</td>\n",
              "      <td>3</td>\n",
              "      <td>3</td>\n",
              "      <td>5</td>\n",
              "      <td>4</td>\n",
              "      <td>0</td>\n",
              "      <td>3</td>\n",
              "      <td>1025</td>\n",
              "    </tr>\n",
              "    <tr>\n",
              "      <th>1026</th>\n",
              "      <td>32</td>\n",
              "      <td>0</td>\n",
              "      <td>Travel_Rarely</td>\n",
              "      <td>601</td>\n",
              "      <td>Sales</td>\n",
              "      <td>7</td>\n",
              "      <td>5</td>\n",
              "      <td>Marketing</td>\n",
              "      <td>1</td>\n",
              "      <td>1446</td>\n",
              "      <td>4</td>\n",
              "      <td>Male</td>\n",
              "      <td>97</td>\n",
              "      <td>3</td>\n",
              "      <td>2</td>\n",
              "      <td>Sales Executive</td>\n",
              "      <td>4</td>\n",
              "      <td>Married</td>\n",
              "      <td>9204</td>\n",
              "      <td>23343</td>\n",
              "      <td>4</td>\n",
              "      <td>No</td>\n",
              "      <td>12</td>\n",
              "      <td>3</td>\n",
              "      <td>3</td>\n",
              "      <td>1</td>\n",
              "      <td>7</td>\n",
              "      <td>3</td>\n",
              "      <td>2</td>\n",
              "      <td>4</td>\n",
              "      <td>3</td>\n",
              "      <td>0</td>\n",
              "      <td>3</td>\n",
              "      <td>1026</td>\n",
              "    </tr>\n",
              "    <tr>\n",
              "      <th>1027</th>\n",
              "      <td>34</td>\n",
              "      <td>0</td>\n",
              "      <td>Travel_Rarely</td>\n",
              "      <td>401</td>\n",
              "      <td>Research &amp; Development</td>\n",
              "      <td>1</td>\n",
              "      <td>3</td>\n",
              "      <td>Life Sciences</td>\n",
              "      <td>1</td>\n",
              "      <td>1447</td>\n",
              "      <td>4</td>\n",
              "      <td>Female</td>\n",
              "      <td>86</td>\n",
              "      <td>2</td>\n",
              "      <td>1</td>\n",
              "      <td>Laboratory Technician</td>\n",
              "      <td>2</td>\n",
              "      <td>Married</td>\n",
              "      <td>3294</td>\n",
              "      <td>3708</td>\n",
              "      <td>5</td>\n",
              "      <td>No</td>\n",
              "      <td>17</td>\n",
              "      <td>3</td>\n",
              "      <td>1</td>\n",
              "      <td>1</td>\n",
              "      <td>7</td>\n",
              "      <td>2</td>\n",
              "      <td>2</td>\n",
              "      <td>5</td>\n",
              "      <td>4</td>\n",
              "      <td>0</td>\n",
              "      <td>2</td>\n",
              "      <td>1027</td>\n",
              "    </tr>\n",
              "  </tbody>\n",
              "</table>\n",
              "<p>1028 rows × 34 columns</p>\n",
              "</div>"
            ],
            "text/plain": [
              "      Age  Attrition  ... YearsWithCurrManager    ID\n",
              "0      41          1  ...                    5     0\n",
              "1      49          0  ...                    7     1\n",
              "2      37          1  ...                    0     2\n",
              "3      33          0  ...                    0     3\n",
              "4      27          0  ...                    2     4\n",
              "...   ...        ...  ...                  ...   ...\n",
              "1023   56          0  ...                    0  1023\n",
              "1024   47          0  ...                    6  1024\n",
              "1025   24          0  ...                    3  1025\n",
              "1026   32          0  ...                    3  1026\n",
              "1027   34          0  ...                    2  1027\n",
              "\n",
              "[1028 rows x 34 columns]"
            ]
          },
          "metadata": {
            "tags": []
          },
          "execution_count": 87
        }
      ]
    },
    {
      "cell_type": "code",
      "metadata": {
        "id": "VbCEu3bgCMGE",
        "colab_type": "code",
        "outputId": "1acac561-d6f1-4fb3-df52-4be7d858082c",
        "colab": {
          "base_uri": "https://localhost:8080/",
          "height": 34
        }
      },
      "source": [
        "# Data exploration\n",
        "\n",
        "attrition_data.shape"
      ],
      "execution_count": 0,
      "outputs": [
        {
          "output_type": "execute_result",
          "data": {
            "text/plain": [
              "(1028, 34)"
            ]
          },
          "metadata": {
            "tags": []
          },
          "execution_count": 88
        }
      ]
    },
    {
      "cell_type": "code",
      "metadata": {
        "id": "efI2hRbZCN1e",
        "colab_type": "code",
        "outputId": "7420b121-3945-4731-a672-b81c2fae0506",
        "colab": {
          "base_uri": "https://localhost:8080/",
          "height": 204
        }
      },
      "source": [
        "attrition_data.columns"
      ],
      "execution_count": 0,
      "outputs": [
        {
          "output_type": "execute_result",
          "data": {
            "text/plain": [
              "Index(['Age', 'Attrition', 'BusinessTravel', 'DailyRate', 'Department',\n",
              "       'DistanceFromHome', 'Education', 'EducationField', 'EmployeeCount',\n",
              "       'EmployeeNumber', 'EnvironmentSatisfaction', 'Gender', 'HourlyRate',\n",
              "       'JobInvolvement', 'JobLevel', 'JobRole', 'JobSatisfaction',\n",
              "       'MaritalStatus', 'MonthlyIncome', 'MonthlyRate', 'NumCompaniesWorked',\n",
              "       'OverTime', 'PercentSalaryHike', 'PerformanceRating',\n",
              "       'RelationshipSatisfaction', 'StockOptionLevel', 'TotalWorkingYears',\n",
              "       'TrainingTimesLastYear', 'WorkLifeBalance', 'YearsAtCompany',\n",
              "       'YearsInCurrentRole', 'YearsSinceLastPromotion', 'YearsWithCurrManager',\n",
              "       'ID'],\n",
              "      dtype='object')"
            ]
          },
          "metadata": {
            "tags": []
          },
          "execution_count": 89
        }
      ]
    },
    {
      "cell_type": "code",
      "metadata": {
        "id": "qfIJ_ymhCSCE",
        "colab_type": "code",
        "outputId": "f225ae7b-03f3-431d-fbda-0bad743c8e7f",
        "colab": {
          "base_uri": "https://localhost:8080/",
          "height": 317
        }
      },
      "source": [
        "attrition_data.describe()"
      ],
      "execution_count": 0,
      "outputs": [
        {
          "output_type": "execute_result",
          "data": {
            "text/html": [
              "<div>\n",
              "<style scoped>\n",
              "    .dataframe tbody tr th:only-of-type {\n",
              "        vertical-align: middle;\n",
              "    }\n",
              "\n",
              "    .dataframe tbody tr th {\n",
              "        vertical-align: top;\n",
              "    }\n",
              "\n",
              "    .dataframe thead th {\n",
              "        text-align: right;\n",
              "    }\n",
              "</style>\n",
              "<table border=\"1\" class=\"dataframe\">\n",
              "  <thead>\n",
              "    <tr style=\"text-align: right;\">\n",
              "      <th></th>\n",
              "      <th>Age</th>\n",
              "      <th>Attrition</th>\n",
              "      <th>DailyRate</th>\n",
              "      <th>DistanceFromHome</th>\n",
              "      <th>Education</th>\n",
              "      <th>EmployeeCount</th>\n",
              "      <th>EmployeeNumber</th>\n",
              "      <th>EnvironmentSatisfaction</th>\n",
              "      <th>HourlyRate</th>\n",
              "      <th>JobInvolvement</th>\n",
              "      <th>JobLevel</th>\n",
              "      <th>JobSatisfaction</th>\n",
              "      <th>MonthlyIncome</th>\n",
              "      <th>MonthlyRate</th>\n",
              "      <th>NumCompaniesWorked</th>\n",
              "      <th>PercentSalaryHike</th>\n",
              "      <th>PerformanceRating</th>\n",
              "      <th>RelationshipSatisfaction</th>\n",
              "      <th>StockOptionLevel</th>\n",
              "      <th>TotalWorkingYears</th>\n",
              "      <th>TrainingTimesLastYear</th>\n",
              "      <th>WorkLifeBalance</th>\n",
              "      <th>YearsAtCompany</th>\n",
              "      <th>YearsInCurrentRole</th>\n",
              "      <th>YearsSinceLastPromotion</th>\n",
              "      <th>YearsWithCurrManager</th>\n",
              "      <th>ID</th>\n",
              "    </tr>\n",
              "  </thead>\n",
              "  <tbody>\n",
              "    <tr>\n",
              "      <th>count</th>\n",
              "      <td>1028.000000</td>\n",
              "      <td>1028.000000</td>\n",
              "      <td>1028.000000</td>\n",
              "      <td>1028.000000</td>\n",
              "      <td>1028.000000</td>\n",
              "      <td>1028.0</td>\n",
              "      <td>1028.000000</td>\n",
              "      <td>1028.000000</td>\n",
              "      <td>1028.000000</td>\n",
              "      <td>1028.000000</td>\n",
              "      <td>1028.000000</td>\n",
              "      <td>1028.000000</td>\n",
              "      <td>1028.000000</td>\n",
              "      <td>1028.000000</td>\n",
              "      <td>1028.000000</td>\n",
              "      <td>1028.000000</td>\n",
              "      <td>1028.000000</td>\n",
              "      <td>1028.000000</td>\n",
              "      <td>1028.000000</td>\n",
              "      <td>1028.000000</td>\n",
              "      <td>1028.000000</td>\n",
              "      <td>1028.000000</td>\n",
              "      <td>1028.000000</td>\n",
              "      <td>1028.000000</td>\n",
              "      <td>1028.000000</td>\n",
              "      <td>1028.000000</td>\n",
              "      <td>1028.000000</td>\n",
              "    </tr>\n",
              "    <tr>\n",
              "      <th>mean</th>\n",
              "      <td>36.999027</td>\n",
              "      <td>0.167315</td>\n",
              "      <td>806.551556</td>\n",
              "      <td>9.010700</td>\n",
              "      <td>2.873541</td>\n",
              "      <td>1.0</td>\n",
              "      <td>710.198444</td>\n",
              "      <td>2.719844</td>\n",
              "      <td>65.451362</td>\n",
              "      <td>2.731518</td>\n",
              "      <td>2.093385</td>\n",
              "      <td>2.757782</td>\n",
              "      <td>6632.573930</td>\n",
              "      <td>14243.531128</td>\n",
              "      <td>2.697471</td>\n",
              "      <td>15.172179</td>\n",
              "      <td>3.152724</td>\n",
              "      <td>2.732490</td>\n",
              "      <td>0.758755</td>\n",
              "      <td>11.417315</td>\n",
              "      <td>2.769455</td>\n",
              "      <td>2.763619</td>\n",
              "      <td>7.100195</td>\n",
              "      <td>4.263619</td>\n",
              "      <td>2.210117</td>\n",
              "      <td>4.141051</td>\n",
              "      <td>513.500000</td>\n",
              "    </tr>\n",
              "    <tr>\n",
              "      <th>std</th>\n",
              "      <td>9.444297</td>\n",
              "      <td>0.373439</td>\n",
              "      <td>407.043735</td>\n",
              "      <td>8.078418</td>\n",
              "      <td>1.032840</td>\n",
              "      <td>0.0</td>\n",
              "      <td>418.513656</td>\n",
              "      <td>1.089614</td>\n",
              "      <td>20.274229</td>\n",
              "      <td>0.703240</td>\n",
              "      <td>1.141854</td>\n",
              "      <td>1.105306</td>\n",
              "      <td>4855.747841</td>\n",
              "      <td>7048.768076</td>\n",
              "      <td>2.527534</td>\n",
              "      <td>3.647641</td>\n",
              "      <td>0.359896</td>\n",
              "      <td>1.088774</td>\n",
              "      <td>0.836236</td>\n",
              "      <td>8.015441</td>\n",
              "      <td>1.302518</td>\n",
              "      <td>0.703005</td>\n",
              "      <td>6.316289</td>\n",
              "      <td>3.630387</td>\n",
              "      <td>3.288559</td>\n",
              "      <td>3.608460</td>\n",
              "      <td>296.902341</td>\n",
              "    </tr>\n",
              "    <tr>\n",
              "      <th>min</th>\n",
              "      <td>18.000000</td>\n",
              "      <td>0.000000</td>\n",
              "      <td>102.000000</td>\n",
              "      <td>1.000000</td>\n",
              "      <td>1.000000</td>\n",
              "      <td>1.0</td>\n",
              "      <td>1.000000</td>\n",
              "      <td>1.000000</td>\n",
              "      <td>30.000000</td>\n",
              "      <td>1.000000</td>\n",
              "      <td>1.000000</td>\n",
              "      <td>1.000000</td>\n",
              "      <td>1009.000000</td>\n",
              "      <td>2094.000000</td>\n",
              "      <td>0.000000</td>\n",
              "      <td>11.000000</td>\n",
              "      <td>3.000000</td>\n",
              "      <td>1.000000</td>\n",
              "      <td>0.000000</td>\n",
              "      <td>0.000000</td>\n",
              "      <td>0.000000</td>\n",
              "      <td>1.000000</td>\n",
              "      <td>0.000000</td>\n",
              "      <td>0.000000</td>\n",
              "      <td>0.000000</td>\n",
              "      <td>0.000000</td>\n",
              "      <td>0.000000</td>\n",
              "    </tr>\n",
              "    <tr>\n",
              "      <th>25%</th>\n",
              "      <td>30.000000</td>\n",
              "      <td>0.000000</td>\n",
              "      <td>465.750000</td>\n",
              "      <td>2.000000</td>\n",
              "      <td>2.000000</td>\n",
              "      <td>1.0</td>\n",
              "      <td>351.750000</td>\n",
              "      <td>2.000000</td>\n",
              "      <td>48.000000</td>\n",
              "      <td>2.000000</td>\n",
              "      <td>1.000000</td>\n",
              "      <td>2.000000</td>\n",
              "      <td>2886.000000</td>\n",
              "      <td>8259.750000</td>\n",
              "      <td>1.000000</td>\n",
              "      <td>12.000000</td>\n",
              "      <td>3.000000</td>\n",
              "      <td>2.000000</td>\n",
              "      <td>0.000000</td>\n",
              "      <td>6.000000</td>\n",
              "      <td>2.000000</td>\n",
              "      <td>2.000000</td>\n",
              "      <td>3.000000</td>\n",
              "      <td>2.000000</td>\n",
              "      <td>0.000000</td>\n",
              "      <td>2.000000</td>\n",
              "      <td>256.750000</td>\n",
              "    </tr>\n",
              "    <tr>\n",
              "      <th>50%</th>\n",
              "      <td>36.000000</td>\n",
              "      <td>0.000000</td>\n",
              "      <td>813.000000</td>\n",
              "      <td>7.000000</td>\n",
              "      <td>3.000000</td>\n",
              "      <td>1.0</td>\n",
              "      <td>701.500000</td>\n",
              "      <td>3.000000</td>\n",
              "      <td>65.000000</td>\n",
              "      <td>3.000000</td>\n",
              "      <td>2.000000</td>\n",
              "      <td>3.000000</td>\n",
              "      <td>4907.500000</td>\n",
              "      <td>14074.500000</td>\n",
              "      <td>2.000000</td>\n",
              "      <td>14.000000</td>\n",
              "      <td>3.000000</td>\n",
              "      <td>3.000000</td>\n",
              "      <td>1.000000</td>\n",
              "      <td>10.000000</td>\n",
              "      <td>3.000000</td>\n",
              "      <td>3.000000</td>\n",
              "      <td>5.000000</td>\n",
              "      <td>3.000000</td>\n",
              "      <td>1.000000</td>\n",
              "      <td>3.000000</td>\n",
              "      <td>513.500000</td>\n",
              "    </tr>\n",
              "    <tr>\n",
              "      <th>75%</th>\n",
              "      <td>43.000000</td>\n",
              "      <td>0.000000</td>\n",
              "      <td>1157.250000</td>\n",
              "      <td>13.000000</td>\n",
              "      <td>4.000000</td>\n",
              "      <td>1.0</td>\n",
              "      <td>1069.250000</td>\n",
              "      <td>4.000000</td>\n",
              "      <td>83.000000</td>\n",
              "      <td>3.000000</td>\n",
              "      <td>3.000000</td>\n",
              "      <td>4.000000</td>\n",
              "      <td>8729.500000</td>\n",
              "      <td>20342.250000</td>\n",
              "      <td>4.000000</td>\n",
              "      <td>18.000000</td>\n",
              "      <td>3.000000</td>\n",
              "      <td>4.000000</td>\n",
              "      <td>1.000000</td>\n",
              "      <td>16.000000</td>\n",
              "      <td>3.000000</td>\n",
              "      <td>3.000000</td>\n",
              "      <td>9.000000</td>\n",
              "      <td>7.000000</td>\n",
              "      <td>3.000000</td>\n",
              "      <td>7.000000</td>\n",
              "      <td>770.250000</td>\n",
              "    </tr>\n",
              "    <tr>\n",
              "      <th>max</th>\n",
              "      <td>60.000000</td>\n",
              "      <td>1.000000</td>\n",
              "      <td>1499.000000</td>\n",
              "      <td>29.000000</td>\n",
              "      <td>5.000000</td>\n",
              "      <td>1.0</td>\n",
              "      <td>1447.000000</td>\n",
              "      <td>4.000000</td>\n",
              "      <td>100.000000</td>\n",
              "      <td>4.000000</td>\n",
              "      <td>5.000000</td>\n",
              "      <td>4.000000</td>\n",
              "      <td>19999.000000</td>\n",
              "      <td>26999.000000</td>\n",
              "      <td>9.000000</td>\n",
              "      <td>25.000000</td>\n",
              "      <td>4.000000</td>\n",
              "      <td>4.000000</td>\n",
              "      <td>3.000000</td>\n",
              "      <td>40.000000</td>\n",
              "      <td>6.000000</td>\n",
              "      <td>4.000000</td>\n",
              "      <td>40.000000</td>\n",
              "      <td>18.000000</td>\n",
              "      <td>15.000000</td>\n",
              "      <td>17.000000</td>\n",
              "      <td>1027.000000</td>\n",
              "    </tr>\n",
              "  </tbody>\n",
              "</table>\n",
              "</div>"
            ],
            "text/plain": [
              "               Age    Attrition  ...  YearsWithCurrManager           ID\n",
              "count  1028.000000  1028.000000  ...           1028.000000  1028.000000\n",
              "mean     36.999027     0.167315  ...              4.141051   513.500000\n",
              "std       9.444297     0.373439  ...              3.608460   296.902341\n",
              "min      18.000000     0.000000  ...              0.000000     0.000000\n",
              "25%      30.000000     0.000000  ...              2.000000   256.750000\n",
              "50%      36.000000     0.000000  ...              3.000000   513.500000\n",
              "75%      43.000000     0.000000  ...              7.000000   770.250000\n",
              "max      60.000000     1.000000  ...             17.000000  1027.000000\n",
              "\n",
              "[8 rows x 27 columns]"
            ]
          },
          "metadata": {
            "tags": []
          },
          "execution_count": 90
        }
      ]
    },
    {
      "cell_type": "code",
      "metadata": {
        "id": "NH5HWrxRCUYO",
        "colab_type": "code",
        "outputId": "08b91689-9fa4-47ff-9a33-287910365004",
        "colab": {
          "base_uri": "https://localhost:8080/",
          "height": 714
        }
      },
      "source": [
        "attrition_data.info()"
      ],
      "execution_count": 0,
      "outputs": [
        {
          "output_type": "stream",
          "text": [
            "<class 'pandas.core.frame.DataFrame'>\n",
            "RangeIndex: 1028 entries, 0 to 1027\n",
            "Data columns (total 34 columns):\n",
            " #   Column                    Non-Null Count  Dtype \n",
            "---  ------                    --------------  ----- \n",
            " 0   Age                       1028 non-null   int64 \n",
            " 1   Attrition                 1028 non-null   int64 \n",
            " 2   BusinessTravel            1028 non-null   object\n",
            " 3   DailyRate                 1028 non-null   int64 \n",
            " 4   Department                1028 non-null   object\n",
            " 5   DistanceFromHome          1028 non-null   int64 \n",
            " 6   Education                 1028 non-null   int64 \n",
            " 7   EducationField            1028 non-null   object\n",
            " 8   EmployeeCount             1028 non-null   int64 \n",
            " 9   EmployeeNumber            1028 non-null   int64 \n",
            " 10  EnvironmentSatisfaction   1028 non-null   int64 \n",
            " 11  Gender                    1028 non-null   object\n",
            " 12  HourlyRate                1028 non-null   int64 \n",
            " 13  JobInvolvement            1028 non-null   int64 \n",
            " 14  JobLevel                  1028 non-null   int64 \n",
            " 15  JobRole                   1028 non-null   object\n",
            " 16  JobSatisfaction           1028 non-null   int64 \n",
            " 17  MaritalStatus             1028 non-null   object\n",
            " 18  MonthlyIncome             1028 non-null   int64 \n",
            " 19  MonthlyRate               1028 non-null   int64 \n",
            " 20  NumCompaniesWorked        1028 non-null   int64 \n",
            " 21  OverTime                  1028 non-null   object\n",
            " 22  PercentSalaryHike         1028 non-null   int64 \n",
            " 23  PerformanceRating         1028 non-null   int64 \n",
            " 24  RelationshipSatisfaction  1028 non-null   int64 \n",
            " 25  StockOptionLevel          1028 non-null   int64 \n",
            " 26  TotalWorkingYears         1028 non-null   int64 \n",
            " 27  TrainingTimesLastYear     1028 non-null   int64 \n",
            " 28  WorkLifeBalance           1028 non-null   int64 \n",
            " 29  YearsAtCompany            1028 non-null   int64 \n",
            " 30  YearsInCurrentRole        1028 non-null   int64 \n",
            " 31  YearsSinceLastPromotion   1028 non-null   int64 \n",
            " 32  YearsWithCurrManager      1028 non-null   int64 \n",
            " 33  ID                        1028 non-null   int64 \n",
            "dtypes: int64(27), object(7)\n",
            "memory usage: 273.2+ KB\n"
          ],
          "name": "stdout"
        }
      ]
    },
    {
      "cell_type": "code",
      "metadata": {
        "id": "kUMwWnqkCWu_",
        "colab_type": "code",
        "outputId": "58e0a7d9-383d-4029-81ff-e45f4902965b",
        "colab": {
          "base_uri": "https://localhost:8080/",
          "height": 34
        }
      },
      "source": [
        "# check whether thier is null value are present or not\n",
        "attrition_data[\"Attrition\"].isna().sum()"
      ],
      "execution_count": 0,
      "outputs": [
        {
          "output_type": "execute_result",
          "data": {
            "text/plain": [
              "0"
            ]
          },
          "metadata": {
            "tags": []
          },
          "execution_count": 92
        }
      ]
    },
    {
      "cell_type": "code",
      "metadata": {
        "id": "3dGT5SBZChXN",
        "colab_type": "code",
        "outputId": "2c13db8c-2e8f-44be-bfd4-7aab6615dfd3",
        "colab": {
          "base_uri": "https://localhost:8080/",
          "height": 68
        }
      },
      "source": [
        "# Finding the number of distinct classes\n",
        "attrition_data.Attrition.value_counts()"
      ],
      "execution_count": 0,
      "outputs": [
        {
          "output_type": "execute_result",
          "data": {
            "text/plain": [
              "0    856\n",
              "1    172\n",
              "Name: Attrition, dtype: int64"
            ]
          },
          "metadata": {
            "tags": []
          },
          "execution_count": 93
        }
      ]
    },
    {
      "cell_type": "code",
      "metadata": {
        "id": "DNk260gOCkFD",
        "colab_type": "code",
        "outputId": "a8ab62c1-53a5-415e-97f7-edf8d23854c6",
        "colab": {
          "base_uri": "https://localhost:8080/",
          "height": 295
        }
      },
      "source": [
        "# Data visualization\n",
        "\n",
        "sns.countplot(attrition_data['Attrition'], palette='Set1',color='blue')\n",
        "plt.title(\"Attrition value\")\n",
        "plt.show()"
      ],
      "execution_count": 0,
      "outputs": [
        {
          "output_type": "display_data",
          "data": {
            "image/png": "[encoded data removed]",
            "text/plain": [
              "<Figure size 432x288 with 1 Axes>"
            ]
          },
          "metadata": {
            "tags": [],
            "needs_background": "light"
          }
        }
      ]
    },
    {
      "cell_type": "code",
      "metadata": {
        "id": "vNP6iEZPC7z-",
        "colab_type": "code",
        "outputId": "c01ad2d2-b739-4c1d-fc34-4f0c38b04635",
        "colab": {
          "base_uri": "https://localhost:8080/",
          "height": 292
        }
      },
      "source": [
        "newcrosstab_gender = pd.crosstab(attrition_data.Attrition,attrition_data.Gender)\n",
        "newcrosstab_gender.plot(kind='bar', stacked=True)\n",
        "plt.ylabel('Frequency')\n",
        "plt.title('Stacked Bar plot for Attrition and Gender')\n",
        "plt.show()"
      ],
      "execution_count": 0,
      "outputs": [
        {
          "output_type": "display_data",
          "data": {
            "image/png": "[encoded data removed]",
            "text/plain": [
              "<Figure size 432x288 with 1 Axes>"
            ]
          },
          "metadata": {
            "tags": [],
            "needs_background": "light"
          }
        }
      ]
    },
    {
      "cell_type": "code",
      "metadata": {
        "id": "zFlrbFoVC9bJ",
        "colab_type": "code",
        "outputId": "d619ed3a-00b9-4f20-9534-58fc1b635701",
        "colab": {
          "base_uri": "https://localhost:8080/",
          "height": 142
        }
      },
      "source": [
        "newcrosstab_gender"
      ],
      "execution_count": 0,
      "outputs": [
        {
          "output_type": "execute_result",
          "data": {
            "text/html": [
              "<div>\n",
              "<style scoped>\n",
              "    .dataframe tbody tr th:only-of-type {\n",
              "        vertical-align: middle;\n",
              "    }\n",
              "\n",
              "    .dataframe tbody tr th {\n",
              "        vertical-align: top;\n",
              "    }\n",
              "\n",
              "    .dataframe thead th {\n",
              "        text-align: right;\n",
              "    }\n",
              "</style>\n",
              "<table border=\"1\" class=\"dataframe\">\n",
              "  <thead>\n",
              "    <tr style=\"text-align: right;\">\n",
              "      <th>Gender</th>\n",
              "      <th>Female</th>\n",
              "      <th>Male</th>\n",
              "    </tr>\n",
              "    <tr>\n",
              "      <th>Attrition</th>\n",
              "      <th></th>\n",
              "      <th></th>\n",
              "    </tr>\n",
              "  </thead>\n",
              "  <tbody>\n",
              "    <tr>\n",
              "      <th>0</th>\n",
              "      <td>364</td>\n",
              "      <td>492</td>\n",
              "    </tr>\n",
              "    <tr>\n",
              "      <th>1</th>\n",
              "      <td>67</td>\n",
              "      <td>105</td>\n",
              "    </tr>\n",
              "  </tbody>\n",
              "</table>\n",
              "</div>"
            ],
            "text/plain": [
              "Gender     Female  Male\n",
              "Attrition              \n",
              "0             364   492\n",
              "1              67   105"
            ]
          },
          "metadata": {
            "tags": []
          },
          "execution_count": 96
        }
      ]
    },
    {
      "cell_type": "code",
      "metadata": {
        "id": "gQcyY1OgDBRl",
        "colab_type": "code",
        "outputId": "04066a0d-a650-41c0-ddca-3804b62dd333",
        "colab": {
          "base_uri": "https://localhost:8080/",
          "height": 292
        }
      },
      "source": [
        "newcrosstab_department = pd.crosstab(attrition_data.Attrition,attrition_data.Department)\n",
        "newcrosstab_department.plot(kind='bar', stacked=True)\n",
        "plt.ylabel('Frequency')\n",
        "plt.title('Stacked Bar plot for Attrition and Department')\n",
        "plt.show()"
      ],
      "execution_count": 0,
      "outputs": [
        {
          "output_type": "display_data",
          "data": {
            "image/png": "[encoded data removed]",
            "text/plain": [
              "<Figure size 432x288 with 1 Axes>"
            ]
          },
          "metadata": {
            "tags": [],
            "needs_background": "light"
          }
        }
      ]
    },
    {
      "cell_type": "code",
      "metadata": {
        "id": "gCpD-3aADE1c",
        "colab_type": "code",
        "outputId": "57e3398c-a6c0-4bbf-d9e8-2a0bbe6648b2",
        "colab": {
          "base_uri": "https://localhost:8080/",
          "height": 142
        }
      },
      "source": [
        "newcrosstab_department"
      ],
      "execution_count": 0,
      "outputs": [
        {
          "output_type": "execute_result",
          "data": {
            "text/html": [
              "<div>\n",
              "<style scoped>\n",
              "    .dataframe tbody tr th:only-of-type {\n",
              "        vertical-align: middle;\n",
              "    }\n",
              "\n",
              "    .dataframe tbody tr th {\n",
              "        vertical-align: top;\n",
              "    }\n",
              "\n",
              "    .dataframe thead th {\n",
              "        text-align: right;\n",
              "    }\n",
              "</style>\n",
              "<table border=\"1\" class=\"dataframe\">\n",
              "  <thead>\n",
              "    <tr style=\"text-align: right;\">\n",
              "      <th>Department</th>\n",
              "      <th>Human Resources</th>\n",
              "      <th>Research &amp; Development</th>\n",
              "      <th>Sales</th>\n",
              "    </tr>\n",
              "    <tr>\n",
              "      <th>Attrition</th>\n",
              "      <th></th>\n",
              "      <th></th>\n",
              "      <th></th>\n",
              "    </tr>\n",
              "  </thead>\n",
              "  <tbody>\n",
              "    <tr>\n",
              "      <th>0</th>\n",
              "      <td>31</td>\n",
              "      <td>579</td>\n",
              "      <td>246</td>\n",
              "    </tr>\n",
              "    <tr>\n",
              "      <th>1</th>\n",
              "      <td>5</td>\n",
              "      <td>104</td>\n",
              "      <td>63</td>\n",
              "    </tr>\n",
              "  </tbody>\n",
              "</table>\n",
              "</div>"
            ],
            "text/plain": [
              "Department  Human Resources  Research & Development  Sales\n",
              "Attrition                                                 \n",
              "0                        31                     579    246\n",
              "1                         5                     104     63"
            ]
          },
          "metadata": {
            "tags": []
          },
          "execution_count": 98
        }
      ]
    },
    {
      "cell_type": "code",
      "metadata": {
        "id": "OyuysXiGDHXt",
        "colab_type": "code",
        "outputId": "2ef85416-a6d7-4c2a-be80-8ca0601efeec",
        "colab": {
          "base_uri": "https://localhost:8080/",
          "height": 879
        }
      },
      "source": [
        "attrition_data.hist(figsize=(15,15))\n",
        "plt.show()"
      ],
      "execution_count": 0,
      "outputs": [
        {
          "output_type": "display_data",
          "data": {
            "image/png": "[encoded data removed]",
            "text/plain": [
              "<Figure size 1080x1080 with 30 Axes>"
            ]
          },
          "metadata": {
            "tags": [],
            "needs_background": "light"
          }
        }
      ]
    },
    {
      "cell_type": "code",
      "metadata": {
        "id": "mQpoOpKADOe7",
        "colab_type": "code",
        "outputId": "4d9a5bb6-f9ac-4f79-b7b7-7203ecbb4c71",
        "colab": {
          "base_uri": "https://localhost:8080/",
          "height": 906
        }
      },
      "source": [
        "x = attrition_data.corr()\n",
        "x"
      ],
      "execution_count": 0,
      "outputs": [
        {
          "output_type": "execute_result",
          "data": {
            "text/html": [
              "<div>\n",
              "<style scoped>\n",
              "    .dataframe tbody tr th:only-of-type {\n",
              "        vertical-align: middle;\n",
              "    }\n",
              "\n",
              "    .dataframe tbody tr th {\n",
              "        vertical-align: top;\n",
              "    }\n",
              "\n",
              "    .dataframe thead th {\n",
              "        text-align: right;\n",
              "    }\n",
              "</style>\n",
              "<table border=\"1\" class=\"dataframe\">\n",
              "  <thead>\n",
              "    <tr style=\"text-align: right;\">\n",
              "      <th></th>\n",
              "      <th>Age</th>\n",
              "      <th>Attrition</th>\n",
              "      <th>DailyRate</th>\n",
              "      <th>DistanceFromHome</th>\n",
              "      <th>Education</th>\n",
              "      <th>EmployeeCount</th>\n",
              "      <th>EmployeeNumber</th>\n",
              "      <th>EnvironmentSatisfaction</th>\n",
              "      <th>HourlyRate</th>\n",
              "      <th>JobInvolvement</th>\n",
              "      <th>JobLevel</th>\n",
              "      <th>JobSatisfaction</th>\n",
              "      <th>MonthlyIncome</th>\n",
              "      <th>MonthlyRate</th>\n",
              "      <th>NumCompaniesWorked</th>\n",
              "      <th>PercentSalaryHike</th>\n",
              "      <th>PerformanceRating</th>\n",
              "      <th>RelationshipSatisfaction</th>\n",
              "      <th>StockOptionLevel</th>\n",
              "      <th>TotalWorkingYears</th>\n",
              "      <th>TrainingTimesLastYear</th>\n",
              "      <th>WorkLifeBalance</th>\n",
              "      <th>YearsAtCompany</th>\n",
              "      <th>YearsInCurrentRole</th>\n",
              "      <th>YearsSinceLastPromotion</th>\n",
              "      <th>YearsWithCurrManager</th>\n",
              "      <th>ID</th>\n",
              "    </tr>\n",
              "  </thead>\n",
              "  <tbody>\n",
              "    <tr>\n",
              "      <th>Age</th>\n",
              "      <td>1.000000</td>\n",
              "      <td>-0.168641</td>\n",
              "      <td>0.010270</td>\n",
              "      <td>-0.022883</td>\n",
              "      <td>0.181464</td>\n",
              "      <td>NaN</td>\n",
              "      <td>0.003173</td>\n",
              "      <td>0.033375</td>\n",
              "      <td>0.006313</td>\n",
              "      <td>0.042037</td>\n",
              "      <td>0.512325</td>\n",
              "      <td>-0.021383</td>\n",
              "      <td>0.503340</td>\n",
              "      <td>0.016969</td>\n",
              "      <td>0.313343</td>\n",
              "      <td>-0.025688</td>\n",
              "      <td>-0.037771</td>\n",
              "      <td>0.061905</td>\n",
              "      <td>0.006998</td>\n",
              "      <td>0.691968</td>\n",
              "      <td>-0.002472</td>\n",
              "      <td>-0.028193</td>\n",
              "      <td>0.317744</td>\n",
              "      <td>0.209906</td>\n",
              "      <td>0.215766</td>\n",
              "      <td>0.194178</td>\n",
              "      <td>0.002749</td>\n",
              "    </tr>\n",
              "    <tr>\n",
              "      <th>Attrition</th>\n",
              "      <td>-0.168641</td>\n",
              "      <td>1.000000</td>\n",
              "      <td>-0.050566</td>\n",
              "      <td>0.086875</td>\n",
              "      <td>-0.041021</td>\n",
              "      <td>NaN</td>\n",
              "      <td>0.026833</td>\n",
              "      <td>-0.119202</td>\n",
              "      <td>-0.018472</td>\n",
              "      <td>-0.158768</td>\n",
              "      <td>-0.169121</td>\n",
              "      <td>-0.097518</td>\n",
              "      <td>-0.163709</td>\n",
              "      <td>0.025739</td>\n",
              "      <td>0.037174</td>\n",
              "      <td>0.008138</td>\n",
              "      <td>0.005300</td>\n",
              "      <td>-0.050263</td>\n",
              "      <td>-0.160597</td>\n",
              "      <td>-0.178842</td>\n",
              "      <td>-0.038728</td>\n",
              "      <td>-0.064322</td>\n",
              "      <td>-0.133021</td>\n",
              "      <td>-0.159691</td>\n",
              "      <td>-0.031826</td>\n",
              "      <td>-0.151208</td>\n",
              "      <td>0.026794</td>\n",
              "    </tr>\n",
              "    <tr>\n",
              "      <th>DailyRate</th>\n",
              "      <td>0.010270</td>\n",
              "      <td>-0.050566</td>\n",
              "      <td>1.000000</td>\n",
              "      <td>0.023364</td>\n",
              "      <td>-0.049667</td>\n",
              "      <td>NaN</td>\n",
              "      <td>-0.072425</td>\n",
              "      <td>0.018301</td>\n",
              "      <td>0.025172</td>\n",
              "      <td>0.057859</td>\n",
              "      <td>0.009149</td>\n",
              "      <td>0.032010</td>\n",
              "      <td>0.015948</td>\n",
              "      <td>-0.042087</td>\n",
              "      <td>0.026531</td>\n",
              "      <td>0.031686</td>\n",
              "      <td>0.024503</td>\n",
              "      <td>-0.023635</td>\n",
              "      <td>0.042857</td>\n",
              "      <td>0.028833</td>\n",
              "      <td>0.004617</td>\n",
              "      <td>-0.066313</td>\n",
              "      <td>-0.042520</td>\n",
              "      <td>0.005374</td>\n",
              "      <td>-0.041213</td>\n",
              "      <td>-0.037282</td>\n",
              "      <td>-0.072765</td>\n",
              "    </tr>\n",
              "    <tr>\n",
              "      <th>DistanceFromHome</th>\n",
              "      <td>-0.022883</td>\n",
              "      <td>0.086875</td>\n",
              "      <td>0.023364</td>\n",
              "      <td>1.000000</td>\n",
              "      <td>0.012416</td>\n",
              "      <td>NaN</td>\n",
              "      <td>0.008191</td>\n",
              "      <td>-0.022668</td>\n",
              "      <td>0.056265</td>\n",
              "      <td>0.058609</td>\n",
              "      <td>-0.030509</td>\n",
              "      <td>0.002253</td>\n",
              "      <td>-0.048151</td>\n",
              "      <td>0.026314</td>\n",
              "      <td>-0.021968</td>\n",
              "      <td>0.041837</td>\n",
              "      <td>0.034268</td>\n",
              "      <td>0.005861</td>\n",
              "      <td>0.043912</td>\n",
              "      <td>-0.025257</td>\n",
              "      <td>-0.007631</td>\n",
              "      <td>-0.053905</td>\n",
              "      <td>-0.029847</td>\n",
              "      <td>-0.004379</td>\n",
              "      <td>-0.008735</td>\n",
              "      <td>-0.004795</td>\n",
              "      <td>0.008636</td>\n",
              "    </tr>\n",
              "    <tr>\n",
              "      <th>Education</th>\n",
              "      <td>0.181464</td>\n",
              "      <td>-0.041021</td>\n",
              "      <td>-0.049667</td>\n",
              "      <td>0.012416</td>\n",
              "      <td>1.000000</td>\n",
              "      <td>NaN</td>\n",
              "      <td>-0.002240</td>\n",
              "      <td>0.006558</td>\n",
              "      <td>0.022398</td>\n",
              "      <td>0.028283</td>\n",
              "      <td>0.098366</td>\n",
              "      <td>0.003848</td>\n",
              "      <td>0.098867</td>\n",
              "      <td>-0.049857</td>\n",
              "      <td>0.133409</td>\n",
              "      <td>-0.018768</td>\n",
              "      <td>-0.039675</td>\n",
              "      <td>0.014048</td>\n",
              "      <td>-0.003790</td>\n",
              "      <td>0.133525</td>\n",
              "      <td>-0.036168</td>\n",
              "      <td>0.011091</td>\n",
              "      <td>0.061348</td>\n",
              "      <td>0.075898</td>\n",
              "      <td>0.072333</td>\n",
              "      <td>0.086565</td>\n",
              "      <td>-0.001705</td>\n",
              "    </tr>\n",
              "    <tr>\n",
              "      <th>EmployeeCount</th>\n",
              "      <td>NaN</td>\n",
              "      <td>NaN</td>\n",
              "      <td>NaN</td>\n",
              "      <td>NaN</td>\n",
              "      <td>NaN</td>\n",
              "      <td>NaN</td>\n",
              "      <td>NaN</td>\n",
              "      <td>NaN</td>\n",
              "      <td>NaN</td>\n",
              "      <td>NaN</td>\n",
              "      <td>NaN</td>\n",
              "      <td>NaN</td>\n",
              "      <td>NaN</td>\n",
              "      <td>NaN</td>\n",
              "      <td>NaN</td>\n",
              "      <td>NaN</td>\n",
              "      <td>NaN</td>\n",
              "      <td>NaN</td>\n",
              "      <td>NaN</td>\n",
              "      <td>NaN</td>\n",
              "      <td>NaN</td>\n",
              "      <td>NaN</td>\n",
              "      <td>NaN</td>\n",
              "      <td>NaN</td>\n",
              "      <td>NaN</td>\n",
              "      <td>NaN</td>\n",
              "      <td>NaN</td>\n",
              "    </tr>\n",
              "    <tr>\n",
              "      <th>EmployeeNumber</th>\n",
              "      <td>0.003173</td>\n",
              "      <td>0.026833</td>\n",
              "      <td>-0.072425</td>\n",
              "      <td>0.008191</td>\n",
              "      <td>-0.002240</td>\n",
              "      <td>NaN</td>\n",
              "      <td>1.000000</td>\n",
              "      <td>0.029648</td>\n",
              "      <td>0.024285</td>\n",
              "      <td>-0.003322</td>\n",
              "      <td>0.031621</td>\n",
              "      <td>-0.043556</td>\n",
              "      <td>0.041926</td>\n",
              "      <td>0.010285</td>\n",
              "      <td>0.003580</td>\n",
              "      <td>-0.056774</td>\n",
              "      <td>-0.057206</td>\n",
              "      <td>-0.093246</td>\n",
              "      <td>0.024540</td>\n",
              "      <td>0.018827</td>\n",
              "      <td>-0.007704</td>\n",
              "      <td>0.028360</td>\n",
              "      <td>0.012112</td>\n",
              "      <td>0.000836</td>\n",
              "      <td>0.005375</td>\n",
              "      <td>-0.010186</td>\n",
              "      <td>0.999796</td>\n",
              "    </tr>\n",
              "    <tr>\n",
              "      <th>EnvironmentSatisfaction</th>\n",
              "      <td>0.033375</td>\n",
              "      <td>-0.119202</td>\n",
              "      <td>0.018301</td>\n",
              "      <td>-0.022668</td>\n",
              "      <td>0.006558</td>\n",
              "      <td>NaN</td>\n",
              "      <td>0.029648</td>\n",
              "      <td>1.000000</td>\n",
              "      <td>-0.066821</td>\n",
              "      <td>0.014838</td>\n",
              "      <td>0.014005</td>\n",
              "      <td>0.017982</td>\n",
              "      <td>-0.000771</td>\n",
              "      <td>0.019339</td>\n",
              "      <td>0.000308</td>\n",
              "      <td>-0.063798</td>\n",
              "      <td>-0.044733</td>\n",
              "      <td>-0.011526</td>\n",
              "      <td>0.020861</td>\n",
              "      <td>0.008940</td>\n",
              "      <td>-0.036634</td>\n",
              "      <td>0.018968</td>\n",
              "      <td>0.000121</td>\n",
              "      <td>0.025088</td>\n",
              "      <td>0.023509</td>\n",
              "      <td>-0.003313</td>\n",
              "      <td>0.028744</td>\n",
              "    </tr>\n",
              "    <tr>\n",
              "      <th>HourlyRate</th>\n",
              "      <td>0.006313</td>\n",
              "      <td>-0.018472</td>\n",
              "      <td>0.025172</td>\n",
              "      <td>0.056265</td>\n",
              "      <td>0.022398</td>\n",
              "      <td>NaN</td>\n",
              "      <td>0.024285</td>\n",
              "      <td>-0.066821</td>\n",
              "      <td>1.000000</td>\n",
              "      <td>0.045250</td>\n",
              "      <td>-0.013305</td>\n",
              "      <td>-0.072199</td>\n",
              "      <td>-0.004524</td>\n",
              "      <td>-0.026535</td>\n",
              "      <td>0.023740</td>\n",
              "      <td>-0.007174</td>\n",
              "      <td>-0.009990</td>\n",
              "      <td>-0.016492</td>\n",
              "      <td>0.020385</td>\n",
              "      <td>-0.010346</td>\n",
              "      <td>-0.014123</td>\n",
              "      <td>0.002916</td>\n",
              "      <td>-0.018412</td>\n",
              "      <td>-0.033051</td>\n",
              "      <td>-0.042768</td>\n",
              "      <td>-0.030232</td>\n",
              "      <td>0.022999</td>\n",
              "    </tr>\n",
              "    <tr>\n",
              "      <th>JobInvolvement</th>\n",
              "      <td>0.042037</td>\n",
              "      <td>-0.158768</td>\n",
              "      <td>0.057859</td>\n",
              "      <td>0.058609</td>\n",
              "      <td>0.028283</td>\n",
              "      <td>NaN</td>\n",
              "      <td>-0.003322</td>\n",
              "      <td>0.014838</td>\n",
              "      <td>0.045250</td>\n",
              "      <td>1.000000</td>\n",
              "      <td>-0.007549</td>\n",
              "      <td>-0.037395</td>\n",
              "      <td>-0.006137</td>\n",
              "      <td>-0.011343</td>\n",
              "      <td>0.010136</td>\n",
              "      <td>-0.022957</td>\n",
              "      <td>-0.014805</td>\n",
              "      <td>0.061255</td>\n",
              "      <td>0.043739</td>\n",
              "      <td>-0.005842</td>\n",
              "      <td>-0.030435</td>\n",
              "      <td>-0.022140</td>\n",
              "      <td>-0.009283</td>\n",
              "      <td>0.011350</td>\n",
              "      <td>-0.021055</td>\n",
              "      <td>0.038344</td>\n",
              "      <td>-0.003512</td>\n",
              "    </tr>\n",
              "    <tr>\n",
              "      <th>JobLevel</th>\n",
              "      <td>0.512325</td>\n",
              "      <td>-0.169121</td>\n",
              "      <td>0.009149</td>\n",
              "      <td>-0.030509</td>\n",
              "      <td>0.098366</td>\n",
              "      <td>NaN</td>\n",
              "      <td>0.031621</td>\n",
              "      <td>0.014005</td>\n",
              "      <td>-0.013305</td>\n",
              "      <td>-0.007549</td>\n",
              "      <td>1.000000</td>\n",
              "      <td>-0.026036</td>\n",
              "      <td>0.954374</td>\n",
              "      <td>0.021875</td>\n",
              "      <td>0.145089</td>\n",
              "      <td>-0.069790</td>\n",
              "      <td>-0.060803</td>\n",
              "      <td>0.031862</td>\n",
              "      <td>0.013419</td>\n",
              "      <td>0.789603</td>\n",
              "      <td>-0.007115</td>\n",
              "      <td>0.038443</td>\n",
              "      <td>0.546291</td>\n",
              "      <td>0.406993</td>\n",
              "      <td>0.358058</td>\n",
              "      <td>0.376563</td>\n",
              "      <td>0.032274</td>\n",
              "    </tr>\n",
              "    <tr>\n",
              "      <th>JobSatisfaction</th>\n",
              "      <td>-0.021383</td>\n",
              "      <td>-0.097518</td>\n",
              "      <td>0.032010</td>\n",
              "      <td>0.002253</td>\n",
              "      <td>0.003848</td>\n",
              "      <td>NaN</td>\n",
              "      <td>-0.043556</td>\n",
              "      <td>0.017982</td>\n",
              "      <td>-0.072199</td>\n",
              "      <td>-0.037395</td>\n",
              "      <td>-0.026036</td>\n",
              "      <td>1.000000</td>\n",
              "      <td>-0.026646</td>\n",
              "      <td>0.027266</td>\n",
              "      <td>-0.065640</td>\n",
              "      <td>-0.002446</td>\n",
              "      <td>-0.029304</td>\n",
              "      <td>-0.004539</td>\n",
              "      <td>0.025209</td>\n",
              "      <td>-0.040235</td>\n",
              "      <td>0.014605</td>\n",
              "      <td>-0.066238</td>\n",
              "      <td>-0.030551</td>\n",
              "      <td>-0.020956</td>\n",
              "      <td>-0.034739</td>\n",
              "      <td>-0.046355</td>\n",
              "      <td>-0.043152</td>\n",
              "    </tr>\n",
              "    <tr>\n",
              "      <th>MonthlyIncome</th>\n",
              "      <td>0.503340</td>\n",
              "      <td>-0.163709</td>\n",
              "      <td>0.015948</td>\n",
              "      <td>-0.048151</td>\n",
              "      <td>0.098867</td>\n",
              "      <td>NaN</td>\n",
              "      <td>0.041926</td>\n",
              "      <td>-0.000771</td>\n",
              "      <td>-0.004524</td>\n",
              "      <td>-0.006137</td>\n",
              "      <td>0.954374</td>\n",
              "      <td>-0.026646</td>\n",
              "      <td>1.000000</td>\n",
              "      <td>0.011291</td>\n",
              "      <td>0.148414</td>\n",
              "      <td>-0.059931</td>\n",
              "      <td>-0.057267</td>\n",
              "      <td>0.033579</td>\n",
              "      <td>0.008492</td>\n",
              "      <td>0.780190</td>\n",
              "      <td>-0.001611</td>\n",
              "      <td>0.027060</td>\n",
              "      <td>0.528101</td>\n",
              "      <td>0.382471</td>\n",
              "      <td>0.349121</td>\n",
              "      <td>0.343414</td>\n",
              "      <td>0.042457</td>\n",
              "    </tr>\n",
              "    <tr>\n",
              "      <th>MonthlyRate</th>\n",
              "      <td>0.016969</td>\n",
              "      <td>0.025739</td>\n",
              "      <td>-0.042087</td>\n",
              "      <td>0.026314</td>\n",
              "      <td>-0.049857</td>\n",
              "      <td>NaN</td>\n",
              "      <td>0.010285</td>\n",
              "      <td>0.019339</td>\n",
              "      <td>-0.026535</td>\n",
              "      <td>-0.011343</td>\n",
              "      <td>0.021875</td>\n",
              "      <td>0.027266</td>\n",
              "      <td>0.011291</td>\n",
              "      <td>1.000000</td>\n",
              "      <td>-0.004096</td>\n",
              "      <td>-0.010716</td>\n",
              "      <td>-0.012615</td>\n",
              "      <td>-0.013091</td>\n",
              "      <td>-0.027881</td>\n",
              "      <td>0.011111</td>\n",
              "      <td>0.016580</td>\n",
              "      <td>-0.030991</td>\n",
              "      <td>-0.032269</td>\n",
              "      <td>-0.020893</td>\n",
              "      <td>-0.021680</td>\n",
              "      <td>-0.026640</td>\n",
              "      <td>0.010144</td>\n",
              "    </tr>\n",
              "    <tr>\n",
              "      <th>NumCompaniesWorked</th>\n",
              "      <td>0.313343</td>\n",
              "      <td>0.037174</td>\n",
              "      <td>0.026531</td>\n",
              "      <td>-0.021968</td>\n",
              "      <td>0.133409</td>\n",
              "      <td>NaN</td>\n",
              "      <td>0.003580</td>\n",
              "      <td>0.000308</td>\n",
              "      <td>0.023740</td>\n",
              "      <td>0.010136</td>\n",
              "      <td>0.145089</td>\n",
              "      <td>-0.065640</td>\n",
              "      <td>0.148414</td>\n",
              "      <td>-0.004096</td>\n",
              "      <td>1.000000</td>\n",
              "      <td>0.002276</td>\n",
              "      <td>0.001603</td>\n",
              "      <td>0.038144</td>\n",
              "      <td>0.011965</td>\n",
              "      <td>0.250971</td>\n",
              "      <td>-0.050191</td>\n",
              "      <td>-0.003022</td>\n",
              "      <td>-0.100931</td>\n",
              "      <td>-0.074283</td>\n",
              "      <td>-0.023271</td>\n",
              "      <td>-0.093964</td>\n",
              "      <td>0.004285</td>\n",
              "    </tr>\n",
              "    <tr>\n",
              "      <th>PercentSalaryHike</th>\n",
              "      <td>-0.025688</td>\n",
              "      <td>0.008138</td>\n",
              "      <td>0.031686</td>\n",
              "      <td>0.041837</td>\n",
              "      <td>-0.018768</td>\n",
              "      <td>NaN</td>\n",
              "      <td>-0.056774</td>\n",
              "      <td>-0.063798</td>\n",
              "      <td>-0.007174</td>\n",
              "      <td>-0.022957</td>\n",
              "      <td>-0.069790</td>\n",
              "      <td>-0.002446</td>\n",
              "      <td>-0.059931</td>\n",
              "      <td>-0.010716</td>\n",
              "      <td>0.002276</td>\n",
              "      <td>1.000000</td>\n",
              "      <td>0.771366</td>\n",
              "      <td>-0.042330</td>\n",
              "      <td>-0.010949</td>\n",
              "      <td>-0.052149</td>\n",
              "      <td>-0.012951</td>\n",
              "      <td>-0.043728</td>\n",
              "      <td>-0.057255</td>\n",
              "      <td>-0.019608</td>\n",
              "      <td>-0.035975</td>\n",
              "      <td>-0.032621</td>\n",
              "      <td>-0.057322</td>\n",
              "    </tr>\n",
              "    <tr>\n",
              "      <th>PerformanceRating</th>\n",
              "      <td>-0.037771</td>\n",
              "      <td>0.005300</td>\n",
              "      <td>0.024503</td>\n",
              "      <td>0.034268</td>\n",
              "      <td>-0.039675</td>\n",
              "      <td>NaN</td>\n",
              "      <td>-0.057206</td>\n",
              "      <td>-0.044733</td>\n",
              "      <td>-0.009990</td>\n",
              "      <td>-0.014805</td>\n",
              "      <td>-0.060803</td>\n",
              "      <td>-0.029304</td>\n",
              "      <td>-0.057267</td>\n",
              "      <td>-0.012615</td>\n",
              "      <td>0.001603</td>\n",
              "      <td>0.771366</td>\n",
              "      <td>1.000000</td>\n",
              "      <td>-0.007457</td>\n",
              "      <td>-0.003638</td>\n",
              "      <td>-0.027516</td>\n",
              "      <td>-0.022443</td>\n",
              "      <td>-0.038055</td>\n",
              "      <td>-0.025157</td>\n",
              "      <td>0.017597</td>\n",
              "      <td>-0.002459</td>\n",
              "      <td>0.002141</td>\n",
              "      <td>-0.057851</td>\n",
              "    </tr>\n",
              "    <tr>\n",
              "      <th>RelationshipSatisfaction</th>\n",
              "      <td>0.061905</td>\n",
              "      <td>-0.050263</td>\n",
              "      <td>-0.023635</td>\n",
              "      <td>0.005861</td>\n",
              "      <td>0.014048</td>\n",
              "      <td>NaN</td>\n",
              "      <td>-0.093246</td>\n",
              "      <td>-0.011526</td>\n",
              "      <td>-0.016492</td>\n",
              "      <td>0.061255</td>\n",
              "      <td>0.031862</td>\n",
              "      <td>-0.004539</td>\n",
              "      <td>0.033579</td>\n",
              "      <td>-0.013091</td>\n",
              "      <td>0.038144</td>\n",
              "      <td>-0.042330</td>\n",
              "      <td>-0.007457</td>\n",
              "      <td>1.000000</td>\n",
              "      <td>-0.042075</td>\n",
              "      <td>0.040140</td>\n",
              "      <td>-0.007827</td>\n",
              "      <td>0.010171</td>\n",
              "      <td>0.027830</td>\n",
              "      <td>-0.010471</td>\n",
              "      <td>0.042093</td>\n",
              "      <td>0.001683</td>\n",
              "      <td>-0.092574</td>\n",
              "    </tr>\n",
              "    <tr>\n",
              "      <th>StockOptionLevel</th>\n",
              "      <td>0.006998</td>\n",
              "      <td>-0.160597</td>\n",
              "      <td>0.042857</td>\n",
              "      <td>0.043912</td>\n",
              "      <td>-0.003790</td>\n",
              "      <td>NaN</td>\n",
              "      <td>0.024540</td>\n",
              "      <td>0.020861</td>\n",
              "      <td>0.020385</td>\n",
              "      <td>0.043739</td>\n",
              "      <td>0.013419</td>\n",
              "      <td>0.025209</td>\n",
              "      <td>0.008492</td>\n",
              "      <td>-0.027881</td>\n",
              "      <td>0.011965</td>\n",
              "      <td>-0.010949</td>\n",
              "      <td>-0.003638</td>\n",
              "      <td>-0.042075</td>\n",
              "      <td>1.000000</td>\n",
              "      <td>-0.005594</td>\n",
              "      <td>0.027556</td>\n",
              "      <td>-0.024220</td>\n",
              "      <td>0.034629</td>\n",
              "      <td>0.056891</td>\n",
              "      <td>0.036154</td>\n",
              "      <td>0.029358</td>\n",
              "      <td>0.024672</td>\n",
              "    </tr>\n",
              "    <tr>\n",
              "      <th>TotalWorkingYears</th>\n",
              "      <td>0.691968</td>\n",
              "      <td>-0.178842</td>\n",
              "      <td>0.028833</td>\n",
              "      <td>-0.025257</td>\n",
              "      <td>0.133525</td>\n",
              "      <td>NaN</td>\n",
              "      <td>0.018827</td>\n",
              "      <td>0.008940</td>\n",
              "      <td>-0.010346</td>\n",
              "      <td>-0.005842</td>\n",
              "      <td>0.789603</td>\n",
              "      <td>-0.040235</td>\n",
              "      <td>0.780190</td>\n",
              "      <td>0.011111</td>\n",
              "      <td>0.250971</td>\n",
              "      <td>-0.052149</td>\n",
              "      <td>-0.027516</td>\n",
              "      <td>0.040140</td>\n",
              "      <td>-0.005594</td>\n",
              "      <td>1.000000</td>\n",
              "      <td>-0.028268</td>\n",
              "      <td>-0.007360</td>\n",
              "      <td>0.632968</td>\n",
              "      <td>0.460833</td>\n",
              "      <td>0.405928</td>\n",
              "      <td>0.450119</td>\n",
              "      <td>0.019201</td>\n",
              "    </tr>\n",
              "    <tr>\n",
              "      <th>TrainingTimesLastYear</th>\n",
              "      <td>-0.002472</td>\n",
              "      <td>-0.038728</td>\n",
              "      <td>0.004617</td>\n",
              "      <td>-0.007631</td>\n",
              "      <td>-0.036168</td>\n",
              "      <td>NaN</td>\n",
              "      <td>-0.007704</td>\n",
              "      <td>-0.036634</td>\n",
              "      <td>-0.014123</td>\n",
              "      <td>-0.030435</td>\n",
              "      <td>-0.007115</td>\n",
              "      <td>0.014605</td>\n",
              "      <td>-0.001611</td>\n",
              "      <td>0.016580</td>\n",
              "      <td>-0.050191</td>\n",
              "      <td>-0.012951</td>\n",
              "      <td>-0.022443</td>\n",
              "      <td>-0.007827</td>\n",
              "      <td>0.027556</td>\n",
              "      <td>-0.028268</td>\n",
              "      <td>1.000000</td>\n",
              "      <td>0.046765</td>\n",
              "      <td>-0.007723</td>\n",
              "      <td>-0.034908</td>\n",
              "      <td>-0.000046</td>\n",
              "      <td>-0.021457</td>\n",
              "      <td>-0.006807</td>\n",
              "    </tr>\n",
              "    <tr>\n",
              "      <th>WorkLifeBalance</th>\n",
              "      <td>-0.028193</td>\n",
              "      <td>-0.064322</td>\n",
              "      <td>-0.066313</td>\n",
              "      <td>-0.053905</td>\n",
              "      <td>0.011091</td>\n",
              "      <td>NaN</td>\n",
              "      <td>0.028360</td>\n",
              "      <td>0.018968</td>\n",
              "      <td>0.002916</td>\n",
              "      <td>-0.022140</td>\n",
              "      <td>0.038443</td>\n",
              "      <td>-0.066238</td>\n",
              "      <td>0.027060</td>\n",
              "      <td>-0.030991</td>\n",
              "      <td>-0.003022</td>\n",
              "      <td>-0.043728</td>\n",
              "      <td>-0.038055</td>\n",
              "      <td>0.010171</td>\n",
              "      <td>-0.024220</td>\n",
              "      <td>-0.007360</td>\n",
              "      <td>0.046765</td>\n",
              "      <td>1.000000</td>\n",
              "      <td>0.011040</td>\n",
              "      <td>0.026348</td>\n",
              "      <td>0.007606</td>\n",
              "      <td>-0.003349</td>\n",
              "      <td>0.028986</td>\n",
              "    </tr>\n",
              "    <tr>\n",
              "      <th>YearsAtCompany</th>\n",
              "      <td>0.317744</td>\n",
              "      <td>-0.133021</td>\n",
              "      <td>-0.042520</td>\n",
              "      <td>-0.029847</td>\n",
              "      <td>0.061348</td>\n",
              "      <td>NaN</td>\n",
              "      <td>0.012112</td>\n",
              "      <td>0.000121</td>\n",
              "      <td>-0.018412</td>\n",
              "      <td>-0.009283</td>\n",
              "      <td>0.546291</td>\n",
              "      <td>-0.030551</td>\n",
              "      <td>0.528101</td>\n",
              "      <td>-0.032269</td>\n",
              "      <td>-0.100931</td>\n",
              "      <td>-0.057255</td>\n",
              "      <td>-0.025157</td>\n",
              "      <td>0.027830</td>\n",
              "      <td>0.034629</td>\n",
              "      <td>0.632968</td>\n",
              "      <td>-0.007723</td>\n",
              "      <td>0.011040</td>\n",
              "      <td>1.000000</td>\n",
              "      <td>0.761659</td>\n",
              "      <td>0.622171</td>\n",
              "      <td>0.760376</td>\n",
              "      <td>0.011621</td>\n",
              "    </tr>\n",
              "    <tr>\n",
              "      <th>YearsInCurrentRole</th>\n",
              "      <td>0.209906</td>\n",
              "      <td>-0.159691</td>\n",
              "      <td>0.005374</td>\n",
              "      <td>-0.004379</td>\n",
              "      <td>0.075898</td>\n",
              "      <td>NaN</td>\n",
              "      <td>0.000836</td>\n",
              "      <td>0.025088</td>\n",
              "      <td>-0.033051</td>\n",
              "      <td>0.011350</td>\n",
              "      <td>0.406993</td>\n",
              "      <td>-0.020956</td>\n",
              "      <td>0.382471</td>\n",
              "      <td>-0.020893</td>\n",
              "      <td>-0.074283</td>\n",
              "      <td>-0.019608</td>\n",
              "      <td>0.017597</td>\n",
              "      <td>-0.010471</td>\n",
              "      <td>0.056891</td>\n",
              "      <td>0.460833</td>\n",
              "      <td>-0.034908</td>\n",
              "      <td>0.026348</td>\n",
              "      <td>0.761659</td>\n",
              "      <td>1.000000</td>\n",
              "      <td>0.551913</td>\n",
              "      <td>0.717550</td>\n",
              "      <td>0.000047</td>\n",
              "    </tr>\n",
              "    <tr>\n",
              "      <th>YearsSinceLastPromotion</th>\n",
              "      <td>0.215766</td>\n",
              "      <td>-0.031826</td>\n",
              "      <td>-0.041213</td>\n",
              "      <td>-0.008735</td>\n",
              "      <td>0.072333</td>\n",
              "      <td>NaN</td>\n",
              "      <td>0.005375</td>\n",
              "      <td>0.023509</td>\n",
              "      <td>-0.042768</td>\n",
              "      <td>-0.021055</td>\n",
              "      <td>0.358058</td>\n",
              "      <td>-0.034739</td>\n",
              "      <td>0.349121</td>\n",
              "      <td>-0.021680</td>\n",
              "      <td>-0.023271</td>\n",
              "      <td>-0.035975</td>\n",
              "      <td>-0.002459</td>\n",
              "      <td>0.042093</td>\n",
              "      <td>0.036154</td>\n",
              "      <td>0.405928</td>\n",
              "      <td>-0.000046</td>\n",
              "      <td>0.007606</td>\n",
              "      <td>0.622171</td>\n",
              "      <td>0.551913</td>\n",
              "      <td>1.000000</td>\n",
              "      <td>0.497540</td>\n",
              "      <td>0.005323</td>\n",
              "    </tr>\n",
              "    <tr>\n",
              "      <th>YearsWithCurrManager</th>\n",
              "      <td>0.194178</td>\n",
              "      <td>-0.151208</td>\n",
              "      <td>-0.037282</td>\n",
              "      <td>-0.004795</td>\n",
              "      <td>0.086565</td>\n",
              "      <td>NaN</td>\n",
              "      <td>-0.010186</td>\n",
              "      <td>-0.003313</td>\n",
              "      <td>-0.030232</td>\n",
              "      <td>0.038344</td>\n",
              "      <td>0.376563</td>\n",
              "      <td>-0.046355</td>\n",
              "      <td>0.343414</td>\n",
              "      <td>-0.026640</td>\n",
              "      <td>-0.093964</td>\n",
              "      <td>-0.032621</td>\n",
              "      <td>0.002141</td>\n",
              "      <td>0.001683</td>\n",
              "      <td>0.029358</td>\n",
              "      <td>0.450119</td>\n",
              "      <td>-0.021457</td>\n",
              "      <td>-0.003349</td>\n",
              "      <td>0.760376</td>\n",
              "      <td>0.717550</td>\n",
              "      <td>0.497540</td>\n",
              "      <td>1.000000</td>\n",
              "      <td>-0.010620</td>\n",
              "    </tr>\n",
              "    <tr>\n",
              "      <th>ID</th>\n",
              "      <td>0.002749</td>\n",
              "      <td>0.026794</td>\n",
              "      <td>-0.072765</td>\n",
              "      <td>0.008636</td>\n",
              "      <td>-0.001705</td>\n",
              "      <td>NaN</td>\n",
              "      <td>0.999796</td>\n",
              "      <td>0.028744</td>\n",
              "      <td>0.022999</td>\n",
              "      <td>-0.003512</td>\n",
              "      <td>0.032274</td>\n",
              "      <td>-0.043152</td>\n",
              "      <td>0.042457</td>\n",
              "      <td>0.010144</td>\n",
              "      <td>0.004285</td>\n",
              "      <td>-0.057322</td>\n",
              "      <td>-0.057851</td>\n",
              "      <td>-0.092574</td>\n",
              "      <td>0.024672</td>\n",
              "      <td>0.019201</td>\n",
              "      <td>-0.006807</td>\n",
              "      <td>0.028986</td>\n",
              "      <td>0.011621</td>\n",
              "      <td>0.000047</td>\n",
              "      <td>0.005323</td>\n",
              "      <td>-0.010620</td>\n",
              "      <td>1.000000</td>\n",
              "    </tr>\n",
              "  </tbody>\n",
              "</table>\n",
              "</div>"
            ],
            "text/plain": [
              "                               Age  Attrition  ...  YearsWithCurrManager        ID\n",
              "Age                       1.000000  -0.168641  ...              0.194178  0.002749\n",
              "Attrition                -0.168641   1.000000  ...             -0.151208  0.026794\n",
              "DailyRate                 0.010270  -0.050566  ...             -0.037282 -0.072765\n",
              "DistanceFromHome         -0.022883   0.086875  ...             -0.004795  0.008636\n",
              "Education                 0.181464  -0.041021  ...              0.086565 -0.001705\n",
              "EmployeeCount                  NaN        NaN  ...                   NaN       NaN\n",
              "EmployeeNumber            0.003173   0.026833  ...             -0.010186  0.999796\n",
              "EnvironmentSatisfaction   0.033375  -0.119202  ...             -0.003313  0.028744\n",
              "HourlyRate                0.006313  -0.018472  ...             -0.030232  0.022999\n",
              "JobInvolvement            0.042037  -0.158768  ...              0.038344 -0.003512\n",
              "JobLevel                  0.512325  -0.169121  ...              0.376563  0.032274\n",
              "JobSatisfaction          -0.021383  -0.097518  ...             -0.046355 -0.043152\n",
              "MonthlyIncome             0.503340  -0.163709  ...              0.343414  0.042457\n",
              "MonthlyRate               0.016969   0.025739  ...             -0.026640  0.010144\n",
              "NumCompaniesWorked        0.313343   0.037174  ...             -0.093964  0.004285\n",
              "PercentSalaryHike        -0.025688   0.008138  ...             -0.032621 -0.057322\n",
              "PerformanceRating        -0.037771   0.005300  ...              0.002141 -0.057851\n",
              "RelationshipSatisfaction  0.061905  -0.050263  ...              0.001683 -0.092574\n",
              "StockOptionLevel          0.006998  -0.160597  ...              0.029358  0.024672\n",
              "TotalWorkingYears         0.691968  -0.178842  ...              0.450119  0.019201\n",
              "TrainingTimesLastYear    -0.002472  -0.038728  ...             -0.021457 -0.006807\n",
              "WorkLifeBalance          -0.028193  -0.064322  ...             -0.003349  0.028986\n",
              "YearsAtCompany            0.317744  -0.133021  ...              0.760376  0.011621\n",
              "YearsInCurrentRole        0.209906  -0.159691  ...              0.717550  0.000047\n",
              "YearsSinceLastPromotion   0.215766  -0.031826  ...              0.497540  0.005323\n",
              "YearsWithCurrManager      0.194178  -0.151208  ...              1.000000 -0.010620\n",
              "ID                        0.002749   0.026794  ...             -0.010620  1.000000\n",
              "\n",
              "[27 rows x 27 columns]"
            ]
          },
          "metadata": {
            "tags": []
          },
          "execution_count": 100
        }
      ]
    },
    {
      "cell_type": "markdown",
      "metadata": {
        "id": "ae6ELnlnDbJN",
        "colab_type": "text"
      },
      "source": [
        "Note :\n",
        "\n",
        "Here we can see that correlation values between any two attribute is greater > `0.5` consider as _**positive correlation**_\n",
        "and < `0.5` consider as _**negative correlation**_ , we can see that values in heatmap with `orange` color"
      ]
    },
    {
      "cell_type": "code",
      "metadata": {
        "id": "jdQUkU8_DeQW",
        "colab_type": "code",
        "outputId": "c8115247-fcca-4c10-daff-e8a3274d6d3c",
        "colab": {
          "base_uri": "https://localhost:8080/",
          "height": 1000
        }
      },
      "source": [
        "## Visulizing heat map\n",
        "plt.figure(figsize=(20,20))\n",
        "mask = np.zeros_like(attrition_data.corr(), dtype=np.bool)\n",
        "mask[np.triu_indices_from(mask)] = True\n",
        "sns.heatmap(  attrition_data.corr(),\n",
        "              vmin=-1,\n",
        "              cmap=\"coolwarm\",\n",
        "              annot=True,\n",
        "              mask=mask\n",
        "            )\n",
        "plt.show()"
      ],
      "execution_count": 0,
      "outputs": [
        {
          "output_type": "display_data",
          "data": {
            "image/png": "[encoded data removed]",
            "text/plain": [
              "<Figure size 1440x1440 with 2 Axes>"
            ]
          },
          "metadata": {
            "tags": [],
            "needs_background": "light"
          }
        }
      ]
    },
    {
      "cell_type": "markdown",
      "metadata": {
        "id": "96Y2F0VZEBsF",
        "colab_type": "text"
      },
      "source": [
        "We can also visualize the data using `pair plot` which is similar as `heatmap` , using pairplot we can visualize correlation between the 2 attributes more cleared .\n",
        "\n",
        "As attribute are more , so visualization is not clear \n",
        "refer : [Data-Visualization](https://towardsdatascience.com/introduction-to-data-visualization-in-python-89a54c97fbed)"
      ]
    },
    {
      "cell_type": "code",
      "metadata": {
        "id": "Js8wOjqPECw5",
        "colab_type": "code",
        "colab": {}
      },
      "source": [
        "#attrition_pair_plot = attrition_data.dropna()\n",
        "#sns.pairplot(attrition_pair_plot,height=1.5)\n",
        "#plt.show()"
      ],
      "execution_count": 0,
      "outputs": []
    },
    {
      "cell_type": "markdown",
      "metadata": {
        "id": "6Tn7fcgnWMTb",
        "colab_type": "text"
      },
      "source": [
        "# **DATA CLEANING**"
      ]
    },
    {
      "cell_type": "code",
      "metadata": {
        "id": "SijztwIAW3fJ",
        "colab_type": "code",
        "outputId": "2dbdeebb-f023-4592-c6fd-aa1166474982",
        "colab": {
          "base_uri": "https://localhost:8080/",
          "height": 241
        }
      },
      "source": [
        "attrition_data['Gender'] = attrition_data['Gender'].map(dict(zip(['Male','Female'],[0,1])))\n",
        "attrition_data['OverTime'] = attrition_data['OverTime'].map(dict(zip(['No','Yes'],[0,1])))\n",
        "attrition_new = pd.get_dummies(attrition_data, columns = ['BusinessTravel', 'Department', 'EducationField', 'JobRole', 'MaritalStatus'])\n",
        "attrition_new.head()"
      ],
      "execution_count": 0,
      "outputs": [
        {
          "output_type": "execute_result",
          "data": {
            "text/html": [
              "<div>\n",
              "<style scoped>\n",
              "    .dataframe tbody tr th:only-of-type {\n",
              "        vertical-align: middle;\n",
              "    }\n",
              "\n",
              "    .dataframe tbody tr th {\n",
              "        vertical-align: top;\n",
              "    }\n",
              "\n",
              "    .dataframe thead th {\n",
              "        text-align: right;\n",
              "    }\n",
              "</style>\n",
              "<table border=\"1\" class=\"dataframe\">\n",
              "  <thead>\n",
              "    <tr style=\"text-align: right;\">\n",
              "      <th></th>\n",
              "      <th>Age</th>\n",
              "      <th>Attrition</th>\n",
              "      <th>DailyRate</th>\n",
              "      <th>DistanceFromHome</th>\n",
              "      <th>Education</th>\n",
              "      <th>EmployeeCount</th>\n",
              "      <th>EmployeeNumber</th>\n",
              "      <th>EnvironmentSatisfaction</th>\n",
              "      <th>Gender</th>\n",
              "      <th>HourlyRate</th>\n",
              "      <th>JobInvolvement</th>\n",
              "      <th>JobLevel</th>\n",
              "      <th>JobSatisfaction</th>\n",
              "      <th>MonthlyIncome</th>\n",
              "      <th>MonthlyRate</th>\n",
              "      <th>NumCompaniesWorked</th>\n",
              "      <th>OverTime</th>\n",
              "      <th>PercentSalaryHike</th>\n",
              "      <th>PerformanceRating</th>\n",
              "      <th>RelationshipSatisfaction</th>\n",
              "      <th>StockOptionLevel</th>\n",
              "      <th>TotalWorkingYears</th>\n",
              "      <th>TrainingTimesLastYear</th>\n",
              "      <th>WorkLifeBalance</th>\n",
              "      <th>YearsAtCompany</th>\n",
              "      <th>YearsInCurrentRole</th>\n",
              "      <th>YearsSinceLastPromotion</th>\n",
              "      <th>YearsWithCurrManager</th>\n",
              "      <th>ID</th>\n",
              "      <th>BusinessTravel_Non-Travel</th>\n",
              "      <th>BusinessTravel_Travel_Frequently</th>\n",
              "      <th>BusinessTravel_Travel_Rarely</th>\n",
              "      <th>Department_Human Resources</th>\n",
              "      <th>Department_Research &amp; Development</th>\n",
              "      <th>Department_Sales</th>\n",
              "      <th>EducationField_Human Resources</th>\n",
              "      <th>EducationField_Life Sciences</th>\n",
              "      <th>EducationField_Marketing</th>\n",
              "      <th>EducationField_Medical</th>\n",
              "      <th>EducationField_Other</th>\n",
              "      <th>EducationField_Technical Degree</th>\n",
              "      <th>JobRole_Healthcare Representative</th>\n",
              "      <th>JobRole_Human Resources</th>\n",
              "      <th>JobRole_Laboratory Technician</th>\n",
              "      <th>JobRole_Manager</th>\n",
              "      <th>JobRole_Manufacturing Director</th>\n",
              "      <th>JobRole_Research Director</th>\n",
              "      <th>JobRole_Research Scientist</th>\n",
              "      <th>JobRole_Sales Executive</th>\n",
              "      <th>JobRole_Sales Representative</th>\n",
              "      <th>MaritalStatus_Divorced</th>\n",
              "      <th>MaritalStatus_Married</th>\n",
              "      <th>MaritalStatus_Single</th>\n",
              "    </tr>\n",
              "  </thead>\n",
              "  <tbody>\n",
              "    <tr>\n",
              "      <th>0</th>\n",
              "      <td>41</td>\n",
              "      <td>1</td>\n",
              "      <td>1102</td>\n",
              "      <td>1</td>\n",
              "      <td>2</td>\n",
              "      <td>1</td>\n",
              "      <td>1</td>\n",
              "      <td>2</td>\n",
              "      <td>1</td>\n",
              "      <td>94</td>\n",
              "      <td>3</td>\n",
              "      <td>2</td>\n",
              "      <td>4</td>\n",
              "      <td>5993</td>\n",
              "      <td>19479</td>\n",
              "      <td>8</td>\n",
              "      <td>1</td>\n",
              "      <td>11</td>\n",
              "      <td>3</td>\n",
              "      <td>1</td>\n",
              "      <td>0</td>\n",
              "      <td>8</td>\n",
              "      <td>0</td>\n",
              "      <td>1</td>\n",
              "      <td>6</td>\n",
              "      <td>4</td>\n",
              "      <td>0</td>\n",
              "      <td>5</td>\n",
              "      <td>0</td>\n",
              "      <td>0</td>\n",
              "      <td>0</td>\n",
              "      <td>1</td>\n",
              "      <td>0</td>\n",
              "      <td>0</td>\n",
              "      <td>1</td>\n",
              "      <td>0</td>\n",
              "      <td>1</td>\n",
              "      <td>0</td>\n",
              "      <td>0</td>\n",
              "      <td>0</td>\n",
              "      <td>0</td>\n",
              "      <td>0</td>\n",
              "      <td>0</td>\n",
              "      <td>0</td>\n",
              "      <td>0</td>\n",
              "      <td>0</td>\n",
              "      <td>0</td>\n",
              "      <td>0</td>\n",
              "      <td>1</td>\n",
              "      <td>0</td>\n",
              "      <td>0</td>\n",
              "      <td>0</td>\n",
              "      <td>1</td>\n",
              "    </tr>\n",
              "    <tr>\n",
              "      <th>1</th>\n",
              "      <td>49</td>\n",
              "      <td>0</td>\n",
              "      <td>279</td>\n",
              "      <td>8</td>\n",
              "      <td>1</td>\n",
              "      <td>1</td>\n",
              "      <td>2</td>\n",
              "      <td>3</td>\n",
              "      <td>0</td>\n",
              "      <td>61</td>\n",
              "      <td>2</td>\n",
              "      <td>2</td>\n",
              "      <td>2</td>\n",
              "      <td>5130</td>\n",
              "      <td>24907</td>\n",
              "      <td>1</td>\n",
              "      <td>0</td>\n",
              "      <td>23</td>\n",
              "      <td>4</td>\n",
              "      <td>4</td>\n",
              "      <td>1</td>\n",
              "      <td>10</td>\n",
              "      <td>3</td>\n",
              "      <td>3</td>\n",
              "      <td>10</td>\n",
              "      <td>7</td>\n",
              "      <td>1</td>\n",
              "      <td>7</td>\n",
              "      <td>1</td>\n",
              "      <td>0</td>\n",
              "      <td>1</td>\n",
              "      <td>0</td>\n",
              "      <td>0</td>\n",
              "      <td>1</td>\n",
              "      <td>0</td>\n",
              "      <td>0</td>\n",
              "      <td>1</td>\n",
              "      <td>0</td>\n",
              "      <td>0</td>\n",
              "      <td>0</td>\n",
              "      <td>0</td>\n",
              "      <td>0</td>\n",
              "      <td>0</td>\n",
              "      <td>0</td>\n",
              "      <td>0</td>\n",
              "      <td>0</td>\n",
              "      <td>0</td>\n",
              "      <td>1</td>\n",
              "      <td>0</td>\n",
              "      <td>0</td>\n",
              "      <td>0</td>\n",
              "      <td>1</td>\n",
              "      <td>0</td>\n",
              "    </tr>\n",
              "    <tr>\n",
              "      <th>2</th>\n",
              "      <td>37</td>\n",
              "      <td>1</td>\n",
              "      <td>1373</td>\n",
              "      <td>2</td>\n",
              "      <td>2</td>\n",
              "      <td>1</td>\n",
              "      <td>4</td>\n",
              "      <td>4</td>\n",
              "      <td>0</td>\n",
              "      <td>92</td>\n",
              "      <td>2</td>\n",
              "      <td>1</td>\n",
              "      <td>3</td>\n",
              "      <td>2090</td>\n",
              "      <td>2396</td>\n",
              "      <td>6</td>\n",
              "      <td>1</td>\n",
              "      <td>15</td>\n",
              "      <td>3</td>\n",
              "      <td>2</td>\n",
              "      <td>0</td>\n",
              "      <td>7</td>\n",
              "      <td>3</td>\n",
              "      <td>3</td>\n",
              "      <td>0</td>\n",
              "      <td>0</td>\n",
              "      <td>0</td>\n",
              "      <td>0</td>\n",
              "      <td>2</td>\n",
              "      <td>0</td>\n",
              "      <td>0</td>\n",
              "      <td>1</td>\n",
              "      <td>0</td>\n",
              "      <td>1</td>\n",
              "      <td>0</td>\n",
              "      <td>0</td>\n",
              "      <td>0</td>\n",
              "      <td>0</td>\n",
              "      <td>0</td>\n",
              "      <td>1</td>\n",
              "      <td>0</td>\n",
              "      <td>0</td>\n",
              "      <td>0</td>\n",
              "      <td>1</td>\n",
              "      <td>0</td>\n",
              "      <td>0</td>\n",
              "      <td>0</td>\n",
              "      <td>0</td>\n",
              "      <td>0</td>\n",
              "      <td>0</td>\n",
              "      <td>0</td>\n",
              "      <td>0</td>\n",
              "      <td>1</td>\n",
              "    </tr>\n",
              "    <tr>\n",
              "      <th>3</th>\n",
              "      <td>33</td>\n",
              "      <td>0</td>\n",
              "      <td>1392</td>\n",
              "      <td>3</td>\n",
              "      <td>4</td>\n",
              "      <td>1</td>\n",
              "      <td>5</td>\n",
              "      <td>4</td>\n",
              "      <td>1</td>\n",
              "      <td>56</td>\n",
              "      <td>3</td>\n",
              "      <td>1</td>\n",
              "      <td>3</td>\n",
              "      <td>2909</td>\n",
              "      <td>23159</td>\n",
              "      <td>1</td>\n",
              "      <td>1</td>\n",
              "      <td>11</td>\n",
              "      <td>3</td>\n",
              "      <td>3</td>\n",
              "      <td>0</td>\n",
              "      <td>8</td>\n",
              "      <td>3</td>\n",
              "      <td>3</td>\n",
              "      <td>8</td>\n",
              "      <td>7</td>\n",
              "      <td>3</td>\n",
              "      <td>0</td>\n",
              "      <td>3</td>\n",
              "      <td>0</td>\n",
              "      <td>1</td>\n",
              "      <td>0</td>\n",
              "      <td>0</td>\n",
              "      <td>1</td>\n",
              "      <td>0</td>\n",
              "      <td>0</td>\n",
              "      <td>1</td>\n",
              "      <td>0</td>\n",
              "      <td>0</td>\n",
              "      <td>0</td>\n",
              "      <td>0</td>\n",
              "      <td>0</td>\n",
              "      <td>0</td>\n",
              "      <td>0</td>\n",
              "      <td>0</td>\n",
              "      <td>0</td>\n",
              "      <td>0</td>\n",
              "      <td>1</td>\n",
              "      <td>0</td>\n",
              "      <td>0</td>\n",
              "      <td>0</td>\n",
              "      <td>1</td>\n",
              "      <td>0</td>\n",
              "    </tr>\n",
              "    <tr>\n",
              "      <th>4</th>\n",
              "      <td>27</td>\n",
              "      <td>0</td>\n",
              "      <td>591</td>\n",
              "      <td>2</td>\n",
              "      <td>1</td>\n",
              "      <td>1</td>\n",
              "      <td>7</td>\n",
              "      <td>1</td>\n",
              "      <td>0</td>\n",
              "      <td>40</td>\n",
              "      <td>3</td>\n",
              "      <td>1</td>\n",
              "      <td>2</td>\n",
              "      <td>3468</td>\n",
              "      <td>16632</td>\n",
              "      <td>9</td>\n",
              "      <td>0</td>\n",
              "      <td>12</td>\n",
              "      <td>3</td>\n",
              "      <td>4</td>\n",
              "      <td>1</td>\n",
              "      <td>6</td>\n",
              "      <td>3</td>\n",
              "      <td>3</td>\n",
              "      <td>2</td>\n",
              "      <td>2</td>\n",
              "      <td>2</td>\n",
              "      <td>2</td>\n",
              "      <td>4</td>\n",
              "      <td>0</td>\n",
              "      <td>0</td>\n",
              "      <td>1</td>\n",
              "      <td>0</td>\n",
              "      <td>1</td>\n",
              "      <td>0</td>\n",
              "      <td>0</td>\n",
              "      <td>0</td>\n",
              "      <td>0</td>\n",
              "      <td>1</td>\n",
              "      <td>0</td>\n",
              "      <td>0</td>\n",
              "      <td>0</td>\n",
              "      <td>0</td>\n",
              "      <td>1</td>\n",
              "      <td>0</td>\n",
              "      <td>0</td>\n",
              "      <td>0</td>\n",
              "      <td>0</td>\n",
              "      <td>0</td>\n",
              "      <td>0</td>\n",
              "      <td>0</td>\n",
              "      <td>1</td>\n",
              "      <td>0</td>\n",
              "    </tr>\n",
              "  </tbody>\n",
              "</table>\n",
              "</div>"
            ],
            "text/plain": [
              "   Age  Attrition  ...  MaritalStatus_Married  MaritalStatus_Single\n",
              "0   41          1  ...                      0                     1\n",
              "1   49          0  ...                      1                     0\n",
              "2   37          1  ...                      0                     1\n",
              "3   33          0  ...                      1                     0\n",
              "4   27          0  ...                      1                     0\n",
              "\n",
              "[5 rows x 53 columns]"
            ]
          },
          "metadata": {
            "tags": []
          },
          "execution_count": 103
        }
      ]
    },
    {
      "cell_type": "code",
      "metadata": {
        "id": "Na1Bo5pNXzNM",
        "colab_type": "code",
        "colab": {}
      },
      "source": [
        "norm_pending = attrition_new[[\"DailyRate\", \"MonthlyIncome\", \"MonthlyRate\"]]\n",
        "normalized_DR =(norm_pending['DailyRate']/norm_pending['DailyRate'].max()) *10\n",
        "normalized_MI =(norm_pending['MonthlyIncome']/norm_pending['MonthlyIncome'].max()) *10\n",
        "normalized_MR =(norm_pending['MonthlyRate']/norm_pending['MonthlyRate'].max()) *10"
      ],
      "execution_count": 0,
      "outputs": []
    },
    {
      "cell_type": "code",
      "metadata": {
        "id": "-wrub9yIX2j6",
        "colab_type": "code",
        "outputId": "9e1bc2e9-e695-40d8-e664-ce904bfa2b62",
        "colab": {
          "base_uri": "https://localhost:8080/",
          "height": 241
        }
      },
      "source": [
        "attrition_new = attrition_new.drop(['DailyRate', 'MonthlyIncome', 'MonthlyRate', 'EmployeeNumber', 'EmployeeCount', 'ID'], axis=1)\n",
        "attrition_new['Norm_DR'] = normalized_DR\n",
        "attrition_new['Norm_MI'] = normalized_MI \n",
        "attrition_new['Norm_MR'] = normalized_MR\n",
        "attrition_new.head() "
      ],
      "execution_count": 0,
      "outputs": [
        {
          "output_type": "execute_result",
          "data": {
            "text/html": [
              "<div>\n",
              "<style scoped>\n",
              "    .dataframe tbody tr th:only-of-type {\n",
              "        vertical-align: middle;\n",
              "    }\n",
              "\n",
              "    .dataframe tbody tr th {\n",
              "        vertical-align: top;\n",
              "    }\n",
              "\n",
              "    .dataframe thead th {\n",
              "        text-align: right;\n",
              "    }\n",
              "</style>\n",
              "<table border=\"1\" class=\"dataframe\">\n",
              "  <thead>\n",
              "    <tr style=\"text-align: right;\">\n",
              "      <th></th>\n",
              "      <th>Age</th>\n",
              "      <th>Attrition</th>\n",
              "      <th>DistanceFromHome</th>\n",
              "      <th>Education</th>\n",
              "      <th>EnvironmentSatisfaction</th>\n",
              "      <th>Gender</th>\n",
              "      <th>HourlyRate</th>\n",
              "      <th>JobInvolvement</th>\n",
              "      <th>JobLevel</th>\n",
              "      <th>JobSatisfaction</th>\n",
              "      <th>NumCompaniesWorked</th>\n",
              "      <th>OverTime</th>\n",
              "      <th>PercentSalaryHike</th>\n",
              "      <th>PerformanceRating</th>\n",
              "      <th>RelationshipSatisfaction</th>\n",
              "      <th>StockOptionLevel</th>\n",
              "      <th>TotalWorkingYears</th>\n",
              "      <th>TrainingTimesLastYear</th>\n",
              "      <th>WorkLifeBalance</th>\n",
              "      <th>YearsAtCompany</th>\n",
              "      <th>YearsInCurrentRole</th>\n",
              "      <th>YearsSinceLastPromotion</th>\n",
              "      <th>YearsWithCurrManager</th>\n",
              "      <th>BusinessTravel_Non-Travel</th>\n",
              "      <th>BusinessTravel_Travel_Frequently</th>\n",
              "      <th>BusinessTravel_Travel_Rarely</th>\n",
              "      <th>Department_Human Resources</th>\n",
              "      <th>Department_Research &amp; Development</th>\n",
              "      <th>Department_Sales</th>\n",
              "      <th>EducationField_Human Resources</th>\n",
              "      <th>EducationField_Life Sciences</th>\n",
              "      <th>EducationField_Marketing</th>\n",
              "      <th>EducationField_Medical</th>\n",
              "      <th>EducationField_Other</th>\n",
              "      <th>EducationField_Technical Degree</th>\n",
              "      <th>JobRole_Healthcare Representative</th>\n",
              "      <th>JobRole_Human Resources</th>\n",
              "      <th>JobRole_Laboratory Technician</th>\n",
              "      <th>JobRole_Manager</th>\n",
              "      <th>JobRole_Manufacturing Director</th>\n",
              "      <th>JobRole_Research Director</th>\n",
              "      <th>JobRole_Research Scientist</th>\n",
              "      <th>JobRole_Sales Executive</th>\n",
              "      <th>JobRole_Sales Representative</th>\n",
              "      <th>MaritalStatus_Divorced</th>\n",
              "      <th>MaritalStatus_Married</th>\n",
              "      <th>MaritalStatus_Single</th>\n",
              "      <th>Norm_DR</th>\n",
              "      <th>Norm_MI</th>\n",
              "      <th>Norm_MR</th>\n",
              "    </tr>\n",
              "  </thead>\n",
              "  <tbody>\n",
              "    <tr>\n",
              "      <th>0</th>\n",
              "      <td>41</td>\n",
              "      <td>1</td>\n",
              "      <td>1</td>\n",
              "      <td>2</td>\n",
              "      <td>2</td>\n",
              "      <td>1</td>\n",
              "      <td>94</td>\n",
              "      <td>3</td>\n",
              "      <td>2</td>\n",
              "      <td>4</td>\n",
              "      <td>8</td>\n",
              "      <td>1</td>\n",
              "      <td>11</td>\n",
              "      <td>3</td>\n",
              "      <td>1</td>\n",
              "      <td>0</td>\n",
              "      <td>8</td>\n",
              "      <td>0</td>\n",
              "      <td>1</td>\n",
              "      <td>6</td>\n",
              "      <td>4</td>\n",
              "      <td>0</td>\n",
              "      <td>5</td>\n",
              "      <td>0</td>\n",
              "      <td>0</td>\n",
              "      <td>1</td>\n",
              "      <td>0</td>\n",
              "      <td>0</td>\n",
              "      <td>1</td>\n",
              "      <td>0</td>\n",
              "      <td>1</td>\n",
              "      <td>0</td>\n",
              "      <td>0</td>\n",
              "      <td>0</td>\n",
              "      <td>0</td>\n",
              "      <td>0</td>\n",
              "      <td>0</td>\n",
              "      <td>0</td>\n",
              "      <td>0</td>\n",
              "      <td>0</td>\n",
              "      <td>0</td>\n",
              "      <td>0</td>\n",
              "      <td>1</td>\n",
              "      <td>0</td>\n",
              "      <td>0</td>\n",
              "      <td>0</td>\n",
              "      <td>1</td>\n",
              "      <td>7.351568</td>\n",
              "      <td>2.996650</td>\n",
              "      <td>7.214712</td>\n",
              "    </tr>\n",
              "    <tr>\n",
              "      <th>1</th>\n",
              "      <td>49</td>\n",
              "      <td>0</td>\n",
              "      <td>8</td>\n",
              "      <td>1</td>\n",
              "      <td>3</td>\n",
              "      <td>0</td>\n",
              "      <td>61</td>\n",
              "      <td>2</td>\n",
              "      <td>2</td>\n",
              "      <td>2</td>\n",
              "      <td>1</td>\n",
              "      <td>0</td>\n",
              "      <td>23</td>\n",
              "      <td>4</td>\n",
              "      <td>4</td>\n",
              "      <td>1</td>\n",
              "      <td>10</td>\n",
              "      <td>3</td>\n",
              "      <td>3</td>\n",
              "      <td>10</td>\n",
              "      <td>7</td>\n",
              "      <td>1</td>\n",
              "      <td>7</td>\n",
              "      <td>0</td>\n",
              "      <td>1</td>\n",
              "      <td>0</td>\n",
              "      <td>0</td>\n",
              "      <td>1</td>\n",
              "      <td>0</td>\n",
              "      <td>0</td>\n",
              "      <td>1</td>\n",
              "      <td>0</td>\n",
              "      <td>0</td>\n",
              "      <td>0</td>\n",
              "      <td>0</td>\n",
              "      <td>0</td>\n",
              "      <td>0</td>\n",
              "      <td>0</td>\n",
              "      <td>0</td>\n",
              "      <td>0</td>\n",
              "      <td>0</td>\n",
              "      <td>1</td>\n",
              "      <td>0</td>\n",
              "      <td>0</td>\n",
              "      <td>0</td>\n",
              "      <td>1</td>\n",
              "      <td>0</td>\n",
              "      <td>1.861241</td>\n",
              "      <td>2.565128</td>\n",
              "      <td>9.225156</td>\n",
              "    </tr>\n",
              "    <tr>\n",
              "      <th>2</th>\n",
              "      <td>37</td>\n",
              "      <td>1</td>\n",
              "      <td>2</td>\n",
              "      <td>2</td>\n",
              "      <td>4</td>\n",
              "      <td>0</td>\n",
              "      <td>92</td>\n",
              "      <td>2</td>\n",
              "      <td>1</td>\n",
              "      <td>3</td>\n",
              "      <td>6</td>\n",
              "      <td>1</td>\n",
              "      <td>15</td>\n",
              "      <td>3</td>\n",
              "      <td>2</td>\n",
              "      <td>0</td>\n",
              "      <td>7</td>\n",
              "      <td>3</td>\n",
              "      <td>3</td>\n",
              "      <td>0</td>\n",
              "      <td>0</td>\n",
              "      <td>0</td>\n",
              "      <td>0</td>\n",
              "      <td>0</td>\n",
              "      <td>0</td>\n",
              "      <td>1</td>\n",
              "      <td>0</td>\n",
              "      <td>1</td>\n",
              "      <td>0</td>\n",
              "      <td>0</td>\n",
              "      <td>0</td>\n",
              "      <td>0</td>\n",
              "      <td>0</td>\n",
              "      <td>1</td>\n",
              "      <td>0</td>\n",
              "      <td>0</td>\n",
              "      <td>0</td>\n",
              "      <td>1</td>\n",
              "      <td>0</td>\n",
              "      <td>0</td>\n",
              "      <td>0</td>\n",
              "      <td>0</td>\n",
              "      <td>0</td>\n",
              "      <td>0</td>\n",
              "      <td>0</td>\n",
              "      <td>0</td>\n",
              "      <td>1</td>\n",
              "      <td>9.159440</td>\n",
              "      <td>1.045052</td>\n",
              "      <td>0.887440</td>\n",
              "    </tr>\n",
              "    <tr>\n",
              "      <th>3</th>\n",
              "      <td>33</td>\n",
              "      <td>0</td>\n",
              "      <td>3</td>\n",
              "      <td>4</td>\n",
              "      <td>4</td>\n",
              "      <td>1</td>\n",
              "      <td>56</td>\n",
              "      <td>3</td>\n",
              "      <td>1</td>\n",
              "      <td>3</td>\n",
              "      <td>1</td>\n",
              "      <td>1</td>\n",
              "      <td>11</td>\n",
              "      <td>3</td>\n",
              "      <td>3</td>\n",
              "      <td>0</td>\n",
              "      <td>8</td>\n",
              "      <td>3</td>\n",
              "      <td>3</td>\n",
              "      <td>8</td>\n",
              "      <td>7</td>\n",
              "      <td>3</td>\n",
              "      <td>0</td>\n",
              "      <td>0</td>\n",
              "      <td>1</td>\n",
              "      <td>0</td>\n",
              "      <td>0</td>\n",
              "      <td>1</td>\n",
              "      <td>0</td>\n",
              "      <td>0</td>\n",
              "      <td>1</td>\n",
              "      <td>0</td>\n",
              "      <td>0</td>\n",
              "      <td>0</td>\n",
              "      <td>0</td>\n",
              "      <td>0</td>\n",
              "      <td>0</td>\n",
              "      <td>0</td>\n",
              "      <td>0</td>\n",
              "      <td>0</td>\n",
              "      <td>0</td>\n",
              "      <td>1</td>\n",
              "      <td>0</td>\n",
              "      <td>0</td>\n",
              "      <td>0</td>\n",
              "      <td>1</td>\n",
              "      <td>0</td>\n",
              "      <td>9.286191</td>\n",
              "      <td>1.454573</td>\n",
              "      <td>8.577725</td>\n",
              "    </tr>\n",
              "    <tr>\n",
              "      <th>4</th>\n",
              "      <td>27</td>\n",
              "      <td>0</td>\n",
              "      <td>2</td>\n",
              "      <td>1</td>\n",
              "      <td>1</td>\n",
              "      <td>0</td>\n",
              "      <td>40</td>\n",
              "      <td>3</td>\n",
              "      <td>1</td>\n",
              "      <td>2</td>\n",
              "      <td>9</td>\n",
              "      <td>0</td>\n",
              "      <td>12</td>\n",
              "      <td>3</td>\n",
              "      <td>4</td>\n",
              "      <td>1</td>\n",
              "      <td>6</td>\n",
              "      <td>3</td>\n",
              "      <td>3</td>\n",
              "      <td>2</td>\n",
              "      <td>2</td>\n",
              "      <td>2</td>\n",
              "      <td>2</td>\n",
              "      <td>0</td>\n",
              "      <td>0</td>\n",
              "      <td>1</td>\n",
              "      <td>0</td>\n",
              "      <td>1</td>\n",
              "      <td>0</td>\n",
              "      <td>0</td>\n",
              "      <td>0</td>\n",
              "      <td>0</td>\n",
              "      <td>1</td>\n",
              "      <td>0</td>\n",
              "      <td>0</td>\n",
              "      <td>0</td>\n",
              "      <td>0</td>\n",
              "      <td>1</td>\n",
              "      <td>0</td>\n",
              "      <td>0</td>\n",
              "      <td>0</td>\n",
              "      <td>0</td>\n",
              "      <td>0</td>\n",
              "      <td>0</td>\n",
              "      <td>0</td>\n",
              "      <td>1</td>\n",
              "      <td>0</td>\n",
              "      <td>3.942628</td>\n",
              "      <td>1.734087</td>\n",
              "      <td>6.160228</td>\n",
              "    </tr>\n",
              "  </tbody>\n",
              "</table>\n",
              "</div>"
            ],
            "text/plain": [
              "   Age  Attrition  DistanceFromHome  ...   Norm_DR   Norm_MI   Norm_MR\n",
              "0   41          1                 1  ...  7.351568  2.996650  7.214712\n",
              "1   49          0                 8  ...  1.861241  2.565128  9.225156\n",
              "2   37          1                 2  ...  9.159440  1.045052  0.887440\n",
              "3   33          0                 3  ...  9.286191  1.454573  8.577725\n",
              "4   27          0                 2  ...  3.942628  1.734087  6.160228\n",
              "\n",
              "[5 rows x 50 columns]"
            ]
          },
          "metadata": {
            "tags": []
          },
          "execution_count": 105
        }
      ]
    },
    {
      "cell_type": "code",
      "metadata": {
        "id": "8EkMigN8X7cK",
        "colab_type": "code",
        "colab": {}
      },
      "source": [
        "X = attrition_new.drop(['Attrition'], axis = 1)\n",
        "y = attrition_new['Attrition']"
      ],
      "execution_count": 0,
      "outputs": []
    },
    {
      "cell_type": "code",
      "metadata": {
        "id": "_EPH7TpgEGqX",
        "colab_type": "code",
        "colab": {}
      },
      "source": [
        "# Loading the machine learning packages \n",
        "from xgboost import XGBClassifier\n",
        "import xgboost as xgb\n",
        "from sklearn.ensemble import AdaBoostClassifier, RandomForestRegressor, RandomForestClassifier\n",
        "from sklearn.tree import DecisionTreeClassifier\n",
        "from sklearn.model_selection import train_test_split, StratifiedKFold, GridSearchCV \n",
        "from sklearn.metrics import mean_absolute_error, accuracy_score, confusion_matrix, classification_report, roc_auc_score\n",
        "from sklearn.preprocessing import StandardScaler\n",
        "from sklearn.impute import SimpleImputer\n",
        "from sklearn import metrics"
      ],
      "execution_count": 0,
      "outputs": []
    },
    {
      "cell_type": "markdown",
      "metadata": {
        "id": "Mx2SOBYXsBzw",
        "colab_type": "text"
      },
      "source": [
        "# Machine learning model : **RandomForestClassifier** "
      ]
    },
    {
      "cell_type": "code",
      "metadata": {
        "id": "8lVYwK_n0NB8",
        "colab_type": "code",
        "colab": {}
      },
      "source": [
        "# split data into X and y\n",
        "X_train, X_test, y_train, y_test = train_test_split(X, y, train_size=0.8, random_state=123)"
      ],
      "execution_count": 0,
      "outputs": []
    },
    {
      "cell_type": "code",
      "metadata": {
        "id": "YAx_XwhB0Ufy",
        "colab_type": "code",
        "outputId": "c00e81bb-561e-4c0d-a191-b1eb22cd0e3a",
        "colab": {
          "base_uri": "https://localhost:8080/",
          "height": 85
        }
      },
      "source": [
        "test_scores, train_scores = [], []\n",
        "for i in [1, 2, 3, 4, 5, 8, 20, 50]:\n",
        "\n",
        "    #we are changing the number of estimator which is hyperparameter\n",
        "    rfc = RandomForestClassifier(n_estimators=i, random_state=1111)\n",
        "    rfc.fit(X_train, y_train) # print(rfc)\n",
        "\n",
        "    train_predictions = rfc.predict(X_train)\n",
        "    test_predictions = rfc.predict(X_test)\n",
        "\n",
        "\n",
        "    train_scores.append(round(accuracy_score(y_train, train_predictions), 2))\n",
        "    test_scores.append(round(accuracy_score(y_test, test_predictions), 2))\n",
        "\n",
        "\n",
        "print(\"train mean square error :{}\".format(mean_absolute_error(y_train,train_predictions)))\n",
        "print(\"test mean square error :{}\".format(mean_absolute_error(y_test,test_predictions)))\n",
        "\n",
        "# Print the train and test scores.\n",
        "print(\"The training scores were: {}\".format(train_scores))\n",
        "\n",
        "print(\"The testing scores were: {}\".format(test_scores))\n",
        "# plot the loss as well"
      ],
      "execution_count": 0,
      "outputs": [
        {
          "output_type": "stream",
          "text": [
            "train mean square error :0.0\n",
            "test mean square error :0.15048543689320387\n",
            "The training scores were: [0.91, 0.93, 0.96, 0.96, 0.98, 0.98, 1.0, 1.0]\n",
            "The testing scores were: [0.75, 0.84, 0.83, 0.85, 0.83, 0.86, 0.85, 0.85]\n"
          ],
          "name": "stdout"
        }
      ]
    },
    {
      "cell_type": "code",
      "metadata": {
        "id": "6SyYUMKHMIOw",
        "colab_type": "code",
        "outputId": "6fe14053-ae54-409f-e514-674b5c94e0e7",
        "colab": {
          "base_uri": "https://localhost:8080/",
          "height": 282
        }
      },
      "source": [
        "z = [1, 2, 3, 4, 5, 8, 20, 50]\n",
        "plt.plot(z, train_scores, linewidth=2)\n",
        "plt.plot(z, test_scores, linewidth=2)\n",
        "plt.legend(['train_score', 'test_score'], loc='lower right')"
      ],
      "execution_count": 0,
      "outputs": [
        {
          "output_type": "execute_result",
          "data": {
            "text/plain": [
              "<matplotlib.legend.Legend at 0x7f537bb99b00>"
            ]
          },
          "metadata": {
            "tags": []
          },
          "execution_count": 110
        },
        {
          "output_type": "display_data",
          "data": {
            "image/png": "[encoded data removed]",
            "text/plain": [
              "<Figure size 432x288 with 1 Axes>"
            ]
          },
          "metadata": {
            "tags": [],
            "needs_background": "light"
          }
        }
      ]
    },
    {
      "cell_type": "code",
      "metadata": {
        "id": "6VbOAjxh0W_d",
        "colab_type": "code",
        "colab": {}
      },
      "source": [
        "from sklearn.metrics import confusion_matrix\n",
        "from sklearn.metrics import classification_report"
      ],
      "execution_count": 0,
      "outputs": []
    },
    {
      "cell_type": "code",
      "metadata": {
        "id": "ZLLbClyM0Y3X",
        "colab_type": "code",
        "outputId": "4694e8b9-29fc-47e0-d09c-320a0c307976",
        "colab": {
          "base_uri": "https://localhost:8080/",
          "height": 357
        }
      },
      "source": [
        "print('The training results are :')\n",
        "print(classification_report(y_train, train_predictions))\n",
        "print('The testing results are :')\n",
        "print(classification_report(y_test, test_predictions))"
      ],
      "execution_count": 0,
      "outputs": [
        {
          "output_type": "stream",
          "text": [
            "The training results are :\n",
            "              precision    recall  f1-score   support\n",
            "\n",
            "           0       1.00      1.00      1.00       684\n",
            "           1       1.00      1.00      1.00       138\n",
            "\n",
            "    accuracy                           1.00       822\n",
            "   macro avg       1.00      1.00      1.00       822\n",
            "weighted avg       1.00      1.00      1.00       822\n",
            "\n",
            "The testing results are :\n",
            "              precision    recall  f1-score   support\n",
            "\n",
            "           0       0.85      0.99      0.92       172\n",
            "           1       0.80      0.12      0.21        34\n",
            "\n",
            "    accuracy                           0.85       206\n",
            "   macro avg       0.83      0.56      0.56       206\n",
            "weighted avg       0.84      0.85      0.80       206\n",
            "\n"
          ],
          "name": "stdout"
        }
      ]
    },
    {
      "cell_type": "code",
      "metadata": {
        "id": "DURKpBbR0a37",
        "colab_type": "code",
        "colab": {}
      },
      "source": [
        "from mlxtend.plotting import plot_confusion_matrix\n",
        "cm = confusion_matrix(y_test, test_predictions)"
      ],
      "execution_count": 0,
      "outputs": []
    },
    {
      "cell_type": "code",
      "metadata": {
        "id": "GjIx4YX00csi",
        "colab_type": "code",
        "outputId": "d21f3947-d2c2-43cd-e54f-c0ec82b9dd77",
        "colab": {
          "base_uri": "https://localhost:8080/",
          "height": 306
        }
      },
      "source": [
        "fig, ax = plot_confusion_matrix(conf_mat=cm,cmap='inferno_r',colorbar=True)\n",
        "plt.title('Confusion Matrix for RandomForest Classifier (Attrition - 1, No Attrition - 0)')\n",
        "plt.show()"
      ],
      "execution_count": 0,
      "outputs": [
        {
          "output_type": "display_data",
          "data": {
            "image/png": "[encoded data removed]",
            "text/plain": [
              "<Figure size 432x288 with 2 Axes>"
            ]
          },
          "metadata": {
            "tags": [],
            "needs_background": "light"
          }
        }
      ]
    },
    {
      "cell_type": "code",
      "metadata": {
        "id": "BSpleTmQHodQ",
        "colab_type": "code",
        "outputId": "d4e41772-7476-48cf-8090-cf883d70878d",
        "colab": {
          "base_uri": "https://localhost:8080/",
          "height": 295
        }
      },
      "source": [
        "from sklearn.metrics import roc_curve  \n",
        "probs = rfc.predict_proba(X_test)  \n",
        "probs = probs[:, 1]  \n",
        "fper, tper, thresholds = roc_curve(y_test, probs) \n",
        "plt.plot(fper, tper)\n",
        "plt.plot([0,1], [0,1], 'k--')\n",
        "plt.xlabel('False Positive Rate')\n",
        "plt.ylabel('True Positive Rate')\n",
        "plt.title('RandomForestClassifier ROC curve')\n",
        "# show the plot\n",
        "plt.show()"
      ],
      "execution_count": 0,
      "outputs": [
        {
          "output_type": "display_data",
          "data": {
            "image/png": "[encoded data removed]",
            "text/plain": [
              "<Figure size 432x288 with 1 Axes>"
            ]
          },
          "metadata": {
            "tags": [],
            "needs_background": "light"
          }
        }
      ]
    },
    {
      "cell_type": "code",
      "metadata": {
        "id": "fXlR11dYfgIv",
        "colab_type": "code",
        "outputId": "0fa4aeaf-13cf-4700-f630-62909ba0a349",
        "colab": {
          "base_uri": "https://localhost:8080/",
          "height": 34
        }
      },
      "source": [
        "from sklearn.metrics import roc_auc_score\n",
        "\n",
        "score_val = roc_auc_score(y_test, probs)\n",
        "print('ROC AUC score: {:.2f}'.format(score_val))"
      ],
      "execution_count": 0,
      "outputs": [
        {
          "output_type": "stream",
          "text": [
            "ROC AUC score: 0.87\n"
          ],
          "name": "stdout"
        }
      ]
    },
    {
      "cell_type": "markdown",
      "metadata": {
        "id": "aNGmlLWW1SbA",
        "colab_type": "text"
      },
      "source": [
        "## Machine learning model : **Gradient Boosting with XGBoost**\n"
      ]
    },
    {
      "cell_type": "code",
      "metadata": {
        "id": "bw_Qs2A61CzE",
        "colab_type": "code",
        "outputId": "a8910054-013a-4cc4-9aa7-6bf5a2bf5445",
        "colab": {
          "base_uri": "https://localhost:8080/",
          "height": 85
        }
      },
      "source": [
        "test_scores, train_scores = [], []\n",
        "for i in [1, 2, 3, 4, 5, 10, 20, 50]:\n",
        "\n",
        "    #we are changing the number of estimator which is hyperparameter\n",
        "    xgb_clf = xgb.XGBClassifier(n_estimators=i, learning_rate=0.01)\n",
        "    xgb_clf.fit(X_train, y_train) # print(rfc)\n",
        "\n",
        "    train_predictions = xgb_clf.predict(X_train)\n",
        "    test_predictions = xgb_clf.predict(X_test)\n",
        "\n",
        "\n",
        "    train_scores.append(round(accuracy_score(y_train, train_predictions), 2))\n",
        "    test_scores.append(round(accuracy_score(y_test, test_predictions), 2))\n",
        "\n",
        "\n",
        "print(\"train mean square error :{}\".format(mean_absolute_error(y_train,train_predictions)))\n",
        "print(\"test mean square error :{}\".format(mean_absolute_error(y_test,test_predictions)))\n",
        "\n",
        "# Print the train and test scores.\n",
        "print(\"The training scores were: {}\".format(train_scores))\n",
        "\n",
        "print(\"The testing scores were: {}\".format(test_scores))\n",
        "# plot the loss as well"
      ],
      "execution_count": 0,
      "outputs": [
        {
          "output_type": "stream",
          "text": [
            "train mean square error :0.13138686131386862\n",
            "test mean square error :0.1650485436893204\n",
            "The training scores were: [0.87, 0.87, 0.87, 0.87, 0.87, 0.87, 0.87, 0.87]\n",
            "The testing scores were: [0.83, 0.83, 0.83, 0.83, 0.83, 0.83, 0.83, 0.83]\n"
          ],
          "name": "stdout"
        }
      ]
    },
    {
      "cell_type": "code",
      "metadata": {
        "id": "AcqeMdaOMLea",
        "colab_type": "code",
        "outputId": "c9f1c074-5d9e-42a4-df89-f2799fd2a788",
        "colab": {
          "base_uri": "https://localhost:8080/",
          "height": 282
        }
      },
      "source": [
        "z = [1, 2, 3, 4, 5, 10, 20, 50]\n",
        "plt.plot(z, train_scores, linewidth=2)\n",
        "plt.plot(z, test_scores, linewidth=2)\n",
        "plt.legend(['train_score', 'test_score'], loc='lower right')"
      ],
      "execution_count": 0,
      "outputs": [
        {
          "output_type": "execute_result",
          "data": {
            "text/plain": [
              "<matplotlib.legend.Legend at 0x7f537b5b0358>"
            ]
          },
          "metadata": {
            "tags": []
          },
          "execution_count": 119
        },
        {
          "output_type": "display_data",
          "data": {
            "image/png": "[encoded data removed]",
            "text/plain": [
              "<Figure size 432x288 with 1 Axes>"
            ]
          },
          "metadata": {
            "tags": [],
            "needs_background": "light"
          }
        }
      ]
    },
    {
      "cell_type": "code",
      "metadata": {
        "id": "MHcHDtAVICcL",
        "colab_type": "code",
        "outputId": "dd7e37c5-fbe8-498b-bde1-1f707dd08f8a",
        "colab": {
          "base_uri": "https://localhost:8080/",
          "height": 357
        }
      },
      "source": [
        "print('The training results are :')\n",
        "print(classification_report(y_train, train_predictions))\n",
        "print('The testing results are :')\n",
        "print(classification_report(y_test, test_predictions))"
      ],
      "execution_count": 0,
      "outputs": [
        {
          "output_type": "stream",
          "text": [
            "The training results are :\n",
            "              precision    recall  f1-score   support\n",
            "\n",
            "           0       0.87      0.98      0.93       684\n",
            "           1       0.79      0.30      0.43       138\n",
            "\n",
            "    accuracy                           0.87       822\n",
            "   macro avg       0.83      0.64      0.68       822\n",
            "weighted avg       0.86      0.87      0.84       822\n",
            "\n",
            "The testing results are :\n",
            "              precision    recall  f1-score   support\n",
            "\n",
            "           0       0.87      0.95      0.91       172\n",
            "           1       0.50      0.26      0.35        34\n",
            "\n",
            "    accuracy                           0.83       206\n",
            "   macro avg       0.68      0.61      0.63       206\n",
            "weighted avg       0.81      0.83      0.81       206\n",
            "\n"
          ],
          "name": "stdout"
        }
      ]
    },
    {
      "cell_type": "code",
      "metadata": {
        "id": "uuUHfqM-1DOt",
        "colab_type": "code",
        "outputId": "48fdfe4d-e216-48a7-960d-6c00184ca2a0",
        "colab": {
          "base_uri": "https://localhost:8080/",
          "height": 306
        }
      },
      "source": [
        "from mlxtend.plotting import plot_confusion_matrix\n",
        "cm = confusion_matrix(y_test, test_predictions)\n",
        "fig, ax = plot_confusion_matrix(conf_mat=cm,cmap='inferno_r',colorbar=True)\n",
        "plt.title('Confusion Matrix for RandomForest Classifier (Attrition - 1, No Attrition - 0)')\n",
        "plt.show()\n"
      ],
      "execution_count": 0,
      "outputs": [
        {
          "output_type": "display_data",
          "data": {
            "image/png": "[encoded data removed]",
            "text/plain": [
              "<Figure size 432x288 with 2 Axes>"
            ]
          },
          "metadata": {
            "tags": [],
            "needs_background": "light"
          }
        }
      ]
    },
    {
      "cell_type": "code",
      "metadata": {
        "id": "6FDp6xHf1LdE",
        "colab_type": "code",
        "outputId": "956917af-c823-4c70-ff6c-d104cb179eb7",
        "colab": {
          "base_uri": "https://localhost:8080/",
          "height": 295
        }
      },
      "source": [
        "from sklearn.metrics import roc_curve  \n",
        "probs = xgb_clf.predict_proba(X_test)  \n",
        "probs = probs[:, 1]  \n",
        "fper, tper, thresholds = roc_curve(y_test, probs) \n",
        "plt.plot(fper, tper)\n",
        "plt.plot([0,1], [0,1], 'k--')\n",
        "plt.xlabel('False Positive Rate')\n",
        "plt.ylabel('True Positive Rate')\n",
        "plt.title('XGBClassifier ROC curve')\n",
        "# show the plot\n",
        "plt.show()"
      ],
      "execution_count": 0,
      "outputs": [
        {
          "output_type": "display_data",
          "data": {
            "image/png": "[encoded data removed]",
            "text/plain": [
              "<Figure size 432x288 with 1 Axes>"
            ]
          },
          "metadata": {
            "tags": [],
            "needs_background": "light"
          }
        }
      ]
    },
    {
      "cell_type": "code",
      "metadata": {
        "id": "8ute4ANFfnVU",
        "colab_type": "code",
        "outputId": "1ac638a1-590e-4463-d00c-78d5cc702850",
        "colab": {
          "base_uri": "https://localhost:8080/",
          "height": 34
        }
      },
      "source": [
        "from sklearn.metrics import roc_auc_score\n",
        "\n",
        "score_val = roc_auc_score(y_test, probs)\n",
        "print('ROC AUC score: {:.2f}'.format(score_val))"
      ],
      "execution_count": 0,
      "outputs": [
        {
          "output_type": "stream",
          "text": [
            "ROC AUC score: 0.79\n"
          ],
          "name": "stdout"
        }
      ]
    },
    {
      "cell_type": "markdown",
      "metadata": {
        "id": "P_bG8DdkI4tu",
        "colab_type": "text"
      },
      "source": [
        "## Machine learning model : **DecisionTreeClassifier**"
      ]
    },
    {
      "cell_type": "code",
      "metadata": {
        "id": "hy2CPZW3I_F_",
        "colab_type": "code",
        "outputId": "9ecefee5-8c2c-4865-df9c-44f0a2db4a2b",
        "colab": {
          "base_uri": "https://localhost:8080/",
          "height": 85
        }
      },
      "source": [
        "dt = DecisionTreeClassifier(random_state=42)\n",
        "dt.fit(X_train, y_train) \n",
        "\n",
        "train_predictions = dt.predict(X_train)\n",
        "test_predictions = dt.predict(X_test)\n",
        "\n",
        "\n",
        "train_scores.append(round(accuracy_score(y_train, train_predictions), 2))\n",
        "test_scores.append(round(accuracy_score(y_test, test_predictions), 2))\n",
        "\n",
        "\n",
        "print(\"train mean square error :{}\".format(mean_absolute_error(y_train,train_predictions)))\n",
        "print(\"test mean square error :{}\".format(mean_absolute_error(y_test,test_predictions)))\n",
        "\n",
        "# Print the train and test scores.\n",
        "print(\"The training scores were: {}\".format(train_scores))\n",
        "\n",
        "print(\"The testing scores were: {}\".format(test_scores))\n",
        "# plot the loss as well"
      ],
      "execution_count": 0,
      "outputs": [
        {
          "output_type": "stream",
          "text": [
            "train mean square error :0.0\n",
            "test mean square error :0.18932038834951456\n",
            "The training scores were: [0.87, 0.87, 0.87, 0.87, 0.87, 0.87, 0.87, 0.87, 1.0]\n",
            "The testing scores were: [0.83, 0.83, 0.83, 0.83, 0.83, 0.83, 0.83, 0.83, 0.81]\n"
          ],
          "name": "stdout"
        }
      ]
    },
    {
      "cell_type": "code",
      "metadata": {
        "id": "hUmSa1u_Jvph",
        "colab_type": "code",
        "outputId": "e8ccc73b-05e2-4672-bbae-99fb073f5ba0",
        "colab": {
          "base_uri": "https://localhost:8080/",
          "height": 357
        }
      },
      "source": [
        "print('The training results are :')\n",
        "print(classification_report(y_train, train_predictions))\n",
        "print('The testing results are :')\n",
        "print(classification_report(y_test, test_predictions))\n",
        "#OVERFITTING"
      ],
      "execution_count": 0,
      "outputs": [
        {
          "output_type": "stream",
          "text": [
            "The training results are :\n",
            "              precision    recall  f1-score   support\n",
            "\n",
            "           0       1.00      1.00      1.00       684\n",
            "           1       1.00      1.00      1.00       138\n",
            "\n",
            "    accuracy                           1.00       822\n",
            "   macro avg       1.00      1.00      1.00       822\n",
            "weighted avg       1.00      1.00      1.00       822\n",
            "\n",
            "The testing results are :\n",
            "              precision    recall  f1-score   support\n",
            "\n",
            "           0       0.90      0.87      0.88       172\n",
            "           1       0.44      0.50      0.47        34\n",
            "\n",
            "    accuracy                           0.81       206\n",
            "   macro avg       0.67      0.69      0.68       206\n",
            "weighted avg       0.82      0.81      0.82       206\n",
            "\n"
          ],
          "name": "stdout"
        }
      ]
    },
    {
      "cell_type": "code",
      "metadata": {
        "id": "ny8qth6CJzUv",
        "colab_type": "code",
        "outputId": "bed436de-1d80-4a9c-ed9b-d555893ee0f7",
        "colab": {
          "base_uri": "https://localhost:8080/",
          "height": 306
        }
      },
      "source": [
        "cm = confusion_matrix(y_test, test_predictions)\n",
        "fig, ax = plot_confusion_matrix(conf_mat=cm,cmap='inferno_r',colorbar=True)\n",
        "plt.title('Confusion Matrix for Decision Classifier (Attrition - 1, No Attrition - 0)')\n",
        "plt.show()"
      ],
      "execution_count": 0,
      "outputs": [
        {
          "output_type": "display_data",
          "data": {
            "image/png": "[encoded data removed]",
            "text/plain": [
              "<Figure size 432x288 with 2 Axes>"
            ]
          },
          "metadata": {
            "tags": [],
            "needs_background": "light"
          }
        }
      ]
    },
    {
      "cell_type": "code",
      "metadata": {
        "id": "oBZJM-OnJ_AO",
        "colab_type": "code",
        "outputId": "d3d3fabf-d918-47cf-a32f-ffb69fea2f31",
        "colab": {
          "base_uri": "https://localhost:8080/",
          "height": 295
        }
      },
      "source": [
        "from sklearn.metrics import roc_curve  \n",
        "probs = dt.predict_proba(X_test)  \n",
        "probs = probs[:, 1]  \n",
        "fper, tper, thresholds = roc_curve(y_test, probs) \n",
        "plt.plot(fper, tper)\n",
        "plt.plot([0,1], [0,1], 'k--')\n",
        "plt.xlabel('False Positive Rate')\n",
        "plt.ylabel('True Positive Rate')\n",
        "plt.title('RandomForestClassifier ROC curve')\n",
        "# show the plot\n",
        "plt.show()"
      ],
      "execution_count": 0,
      "outputs": [
        {
          "output_type": "display_data",
          "data": {
            "image/png": "[encoded data removed]",
            "text/plain": [
              "<Figure size 432x288 with 1 Axes>"
            ]
          },
          "metadata": {
            "tags": [],
            "needs_background": "light"
          }
        }
      ]
    },
    {
      "cell_type": "code",
      "metadata": {
        "id": "2neCmutufxdX",
        "colab_type": "code",
        "outputId": "5e293a61-7eda-42ba-e669-2c947b9a6c94",
        "colab": {
          "base_uri": "https://localhost:8080/",
          "height": 34
        }
      },
      "source": [
        "from sklearn.metrics import roc_auc_score\n",
        "\n",
        "score_val = roc_auc_score(y_test, probs)\n",
        "print('ROC AUC score: {:.2f}'.format(score_val))"
      ],
      "execution_count": 0,
      "outputs": [
        {
          "output_type": "stream",
          "text": [
            "ROC AUC score: 0.69\n"
          ],
          "name": "stdout"
        }
      ]
    },
    {
      "cell_type": "markdown",
      "metadata": {
        "id": "H7r-8J_CLBHq",
        "colab_type": "text"
      },
      "source": [
        "`Adaboost classifier` to make the accuracy of the model better.\n",
        "<br/>\n",
        "Here we use the base model = `DecisionTree`\n",
        "<br/>\n",
        "`Boosting` is used to combine a weak learner classfier into strong learning classifier"
      ]
    },
    {
      "cell_type": "code",
      "metadata": {
        "id": "IigQlZLmKCUC",
        "colab_type": "code",
        "outputId": "6fecfeb6-d072-428f-a732-bcdcfbd38149",
        "colab": {
          "base_uri": "https://localhost:8080/",
          "height": 85
        }
      },
      "source": [
        "test_scores, train_scores = [], []\n",
        "for i in [100, 200, 300, 400, 500, 600, 700, 800]:\n",
        "\n",
        "    #we are changing the number of estimator which is hyperparameter\n",
        "    dt_boost = AdaBoostClassifier(base_estimator=DecisionTreeClassifier(criterion=\"entropy\",max_depth=1),n_estimators=i,learning_rate=0.01,algorithm='SAMME')\n",
        "\n",
        "    dt_boost.fit(X_train, y_train) \n",
        "\n",
        "    train_predictions = dt_boost.predict(X_train)\n",
        "    test_predictions = dt_boost.predict(X_test)\n",
        "\n",
        "\n",
        "    train_scores.append(round(accuracy_score(y_train, train_predictions), 2))\n",
        "    test_scores.append(round(accuracy_score(y_test, test_predictions), 2))\n",
        "\n",
        "\n",
        "print(\"train mean square error :{}\".format(mean_absolute_error(y_train,train_predictions)))\n",
        "print(\"test mean square error :{}\".format(mean_absolute_error(y_test,test_predictions)))\n",
        "\n",
        "# Print the train and test scores.\n",
        "print(\"The training scores were: {}\".format(train_scores))\n",
        "\n",
        "print(\"The testing scores were: {}\".format(test_scores))\n",
        "# plot the loss as well"
      ],
      "execution_count": 0,
      "outputs": [
        {
          "output_type": "stream",
          "text": [
            "train mean square error :0.1678832116788321\n",
            "test mean square error :0.1650485436893204\n",
            "The training scores were: [0.83, 0.83, 0.83, 0.83, 0.83, 0.83, 0.83, 0.83]\n",
            "The testing scores were: [0.83, 0.83, 0.83, 0.83, 0.83, 0.83, 0.83, 0.83]\n"
          ],
          "name": "stdout"
        }
      ]
    },
    {
      "cell_type": "code",
      "metadata": {
        "id": "2Z-3FeThMjs8",
        "colab_type": "code",
        "outputId": "66e9df55-94cd-4266-99ce-d01e41bf5fcf",
        "colab": {
          "base_uri": "https://localhost:8080/",
          "height": 282
        }
      },
      "source": [
        "z = [100, 200, 300, 400, 500, 600, 700, 800]\n",
        "plt.plot(z, train_scores, linewidth=2)\n",
        "plt.plot(z, test_scores, linewidth=2)\n",
        "plt.legend(['train_score', 'test_score'], loc='lower right')"
      ],
      "execution_count": 0,
      "outputs": [
        {
          "output_type": "execute_result",
          "data": {
            "text/plain": [
              "<matplotlib.legend.Legend at 0x7f537bc88c50>"
            ]
          },
          "metadata": {
            "tags": []
          },
          "execution_count": 130
        },
        {
          "output_type": "display_data",
          "data": {
            "image/png": "[encoded data removed]",
            "text/plain": [
              "<Figure size 432x288 with 1 Axes>"
            ]
          },
          "metadata": {
            "tags": [],
            "needs_background": "light"
          }
        }
      ]
    },
    {
      "cell_type": "code",
      "metadata": {
        "id": "xf2Flf57LFWm",
        "colab_type": "code",
        "outputId": "b0cdb17c-59fe-4b13-898e-d914340ac7ad",
        "colab": {
          "base_uri": "https://localhost:8080/",
          "height": 411
        }
      },
      "source": [
        "print('The training results are :')\n",
        "print(classification_report(y_train, train_predictions))\n",
        "print('The testing results are :')\n",
        "print(classification_report(y_test, test_predictions))"
      ],
      "execution_count": 0,
      "outputs": [
        {
          "output_type": "stream",
          "text": [
            "The training results are :\n",
            "              precision    recall  f1-score   support\n",
            "\n",
            "           0       0.83      1.00      0.91       684\n",
            "           1       0.00      0.00      0.00       138\n",
            "\n",
            "    accuracy                           0.83       822\n",
            "   macro avg       0.42      0.50      0.45       822\n",
            "weighted avg       0.69      0.83      0.76       822\n",
            "\n",
            "The testing results are :\n",
            "              precision    recall  f1-score   support\n",
            "\n",
            "           0       0.83      1.00      0.91       172\n",
            "           1       0.00      0.00      0.00        34\n",
            "\n",
            "    accuracy                           0.83       206\n",
            "   macro avg       0.42      0.50      0.46       206\n",
            "weighted avg       0.70      0.83      0.76       206\n",
            "\n"
          ],
          "name": "stdout"
        },
        {
          "output_type": "stream",
          "text": [
            "/usr/local/lib/python3.6/dist-packages/sklearn/metrics/_classification.py:1272: UndefinedMetricWarning: Precision and F-score are ill-defined and being set to 0.0 in labels with no predicted samples. Use `zero_division` parameter to control this behavior.\n",
            "  _warn_prf(average, modifier, msg_start, len(result))\n"
          ],
          "name": "stderr"
        }
      ]
    },
    {
      "cell_type": "code",
      "metadata": {
        "id": "dkKNdYx8LJkY",
        "colab_type": "code",
        "outputId": "c75c70b2-852d-42cc-d429-0db355b53848",
        "colab": {
          "base_uri": "https://localhost:8080/",
          "height": 306
        }
      },
      "source": [
        "from mlxtend.plotting import plot_confusion_matrix\n",
        "cm = confusion_matrix(y_test, test_predictions)\n",
        "fig, ax = plot_confusion_matrix(conf_mat=cm,cmap='inferno_r',colorbar=True)\n",
        "plt.title('Confusion Matrix for RandomForest Classifier (Attrition - 1, No Attrition - 0)')\n",
        "plt.show()"
      ],
      "execution_count": 0,
      "outputs": [
        {
          "output_type": "display_data",
          "data": {
            "image/png": "[encoded data removed]",
            "text/plain": [
              "<Figure size 432x288 with 2 Axes>"
            ]
          },
          "metadata": {
            "tags": [],
            "needs_background": "light"
          }
        }
      ]
    },
    {
      "cell_type": "code",
      "metadata": {
        "id": "olGC4BnJLLtd",
        "colab_type": "code",
        "outputId": "2745027d-57f3-4caa-d279-728df471544a",
        "colab": {
          "base_uri": "https://localhost:8080/",
          "height": 295
        }
      },
      "source": [
        "from sklearn.metrics import roc_curve  \n",
        "probs = dt_boost.predict_proba(X_test)  \n",
        "probs = probs[:, 1]  \n",
        "fper, tper, thresholds = roc_curve(y_test, probs) \n",
        "plt.plot(fper, tper)\n",
        "plt.plot([0,1], [0,1], 'k--')\n",
        "plt.xlabel('False Positive Rate')\n",
        "plt.ylabel('True Positive Rate')\n",
        "plt.title('AdaboostClassifier ROC curve')\n",
        "# show the plot\n",
        "plt.show()"
      ],
      "execution_count": 0,
      "outputs": [
        {
          "output_type": "display_data",
          "data": {
            "image/png": "[encoded data removed]",
            "text/plain": [
              "<Figure size 432x288 with 1 Axes>"
            ]
          },
          "metadata": {
            "tags": [],
            "needs_background": "light"
          }
        }
      ]
    },
    {
      "cell_type": "code",
      "metadata": {
        "id": "LKPiyfLIf6TH",
        "colab_type": "code",
        "outputId": "99b470d6-3b69-41ec-85f0-33f423aaa141",
        "colab": {
          "base_uri": "https://localhost:8080/",
          "height": 34
        }
      },
      "source": [
        "from sklearn.metrics import roc_auc_score\n",
        "\n",
        "score_val = roc_auc_score(y_test, probs)\n",
        "print('ROC AUC score: {:.2f}'.format(score_val))"
      ],
      "execution_count": 0,
      "outputs": [
        {
          "output_type": "stream",
          "text": [
            "ROC AUC score: 0.86\n"
          ],
          "name": "stdout"
        }
      ]
    },
    {
      "cell_type": "markdown",
      "metadata": {
        "id": "OGI1pg9MbfAB",
        "colab_type": "text"
      },
      "source": [
        "### **DECISION TREE CLASSIFICATION WITH GRID SEARCH**"
      ]
    },
    {
      "cell_type": "code",
      "metadata": {
        "id": "JK9Aruz-LRF0",
        "colab_type": "code",
        "colab": {}
      },
      "source": [
        "params = {'max_leaf_nodes': list(range(2, 100)), 'min_samples_split': [2, 3, 4]}\n",
        "grid_search = GridSearchCV(DecisionTreeClassifier(random_state=42), params, verbose=1, cv=3)"
      ],
      "execution_count": 0,
      "outputs": []
    },
    {
      "cell_type": "code",
      "metadata": {
        "id": "TEyOgCAsbltS",
        "colab_type": "code",
        "outputId": "43a3d858-dc03-46d8-8288-fd42f984588c",
        "colab": {
          "base_uri": "https://localhost:8080/",
          "height": 408
        }
      },
      "source": [
        "grid_search.fit(X_train, y_train)\n",
        "print('The training results are :')\n",
        "print(classification_report(y_train, grid_search.predict(X_train)))\n",
        "print('The testing results are :')\n",
        "print(classification_report(y_test, grid_search.predict(X_test)))"
      ],
      "execution_count": 0,
      "outputs": [
        {
          "output_type": "stream",
          "text": [
            "Fitting 3 folds for each of 294 candidates, totalling 882 fits\n"
          ],
          "name": "stdout"
        },
        {
          "output_type": "stream",
          "text": [
            "[Parallel(n_jobs=1)]: Using backend SequentialBackend with 1 concurrent workers.\n"
          ],
          "name": "stderr"
        },
        {
          "output_type": "stream",
          "text": [
            "The training results are :\n",
            "              precision    recall  f1-score   support\n",
            "\n",
            "           0       0.88      0.97      0.93       684\n",
            "           1       0.74      0.37      0.49       138\n",
            "\n",
            "    accuracy                           0.87       822\n",
            "   macro avg       0.81      0.67      0.71       822\n",
            "weighted avg       0.86      0.87      0.85       822\n",
            "\n",
            "The testing results are :\n",
            "              precision    recall  f1-score   support\n",
            "\n",
            "           0       0.88      0.94      0.91       172\n",
            "           1       0.52      0.32      0.40        34\n",
            "\n",
            "    accuracy                           0.84       206\n",
            "   macro avg       0.70      0.63      0.65       206\n",
            "weighted avg       0.82      0.84      0.82       206\n",
            "\n"
          ],
          "name": "stdout"
        },
        {
          "output_type": "stream",
          "text": [
            "[Parallel(n_jobs=1)]: Done 882 out of 882 | elapsed:    7.6s finished\n"
          ],
          "name": "stderr"
        }
      ]
    },
    {
      "cell_type": "code",
      "metadata": {
        "id": "sBCYkOHsboLS",
        "colab_type": "code",
        "outputId": "c0ff05b6-865b-45a5-eb90-817065cbe72e",
        "colab": {
          "base_uri": "https://localhost:8080/",
          "height": 295
        }
      },
      "source": [
        "probs = grid_search.predict_proba(X_test)  \n",
        "probs = probs[:, 1]  \n",
        "fper, tper, thresholds = roc_curve(y_test, probs) \n",
        "plt.plot(fper, tper)\n",
        "plt.plot([0,1], [0,1], 'k--')\n",
        "plt.xlabel('False Positive Rate')\n",
        "plt.ylabel('True Positive Rate')\n",
        "plt.title('Decision Tree ROC curve')\n",
        "# show the plot\n",
        "plt.show()"
      ],
      "execution_count": 0,
      "outputs": [
        {
          "output_type": "display_data",
          "data": {
            "image/png": "[encoded data removed]",
            "text/plain": [
              "<Figure size 432x288 with 1 Axes>"
            ]
          },
          "metadata": {
            "tags": [],
            "needs_background": "light"
          }
        }
      ]
    },
    {
      "cell_type": "code",
      "metadata": {
        "id": "jB5AhPn6f-i5",
        "colab_type": "code",
        "outputId": "a448c908-e3a8-43dd-b5b3-078ea8a0a340",
        "colab": {
          "base_uri": "https://localhost:8080/",
          "height": 34
        }
      },
      "source": [
        "from sklearn.metrics import roc_auc_score\n",
        "\n",
        "score_val = roc_auc_score(y_test, probs)\n",
        "print('ROC AUC score: {:.2f}'.format(score_val))"
      ],
      "execution_count": 0,
      "outputs": [
        {
          "output_type": "stream",
          "text": [
            "ROC AUC score: 0.76\n"
          ],
          "name": "stdout"
        }
      ]
    },
    {
      "cell_type": "code",
      "metadata": {
        "id": "2SwbAsgObwA_",
        "colab_type": "code",
        "outputId": "4042332c-0680-4d76-bc02-7fbb5da3c864",
        "colab": {
          "base_uri": "https://localhost:8080/",
          "height": 34
        }
      },
      "source": [
        "grid_search.best_params_, grid_search.best_score_"
      ],
      "execution_count": 0,
      "outputs": [
        {
          "output_type": "execute_result",
          "data": {
            "text/plain": [
              "({'max_leaf_nodes': 8, 'min_samples_split': 2}, 0.8357664233576642)"
            ]
          },
          "metadata": {
            "tags": []
          },
          "execution_count": 138
        }
      ]
    },
    {
      "cell_type": "code",
      "metadata": {
        "id": "vU5CPaL4b33y",
        "colab_type": "code",
        "outputId": "21e3e184-ac9c-4940-85df-e799746ae02b",
        "colab": {
          "base_uri": "https://localhost:8080/",
          "height": 119
        }
      },
      "source": [
        "grid_search.best_estimator_"
      ],
      "execution_count": 0,
      "outputs": [
        {
          "output_type": "execute_result",
          "data": {
            "text/plain": [
              "DecisionTreeClassifier(ccp_alpha=0.0, class_weight=None, criterion='gini',\n",
              "                       max_depth=None, max_features=None, max_leaf_nodes=8,\n",
              "                       min_impurity_decrease=0.0, min_impurity_split=None,\n",
              "                       min_samples_leaf=1, min_samples_split=2,\n",
              "                       min_weight_fraction_leaf=0.0, presort='deprecated',\n",
              "                       random_state=42, splitter='best')"
            ]
          },
          "metadata": {
            "tags": []
          },
          "execution_count": 139
        }
      ]
    },
    {
      "cell_type": "code",
      "metadata": {
        "id": "Ln1XeGGNb-w8",
        "colab_type": "code",
        "colab": {}
      },
      "source": [
        ""
      ],
      "execution_count": 0,
      "outputs": []
    }
  ]
}